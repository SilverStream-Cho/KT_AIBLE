{
 "cells": [
  {
   "cell_type": "markdown",
   "id": "e89a122d-aa45-427c-a884-9b386eefc978",
   "metadata": {
    "jp-MarkdownHeadingCollapsed": true
   },
   "source": [
    "# Numpy 실습"
   ]
  },
  {
   "cell_type": "code",
   "execution_count": 1,
   "id": "0d9f9964-02f1-407f-b4e4-e6f87c098d84",
   "metadata": {},
   "outputs": [],
   "source": [
    "# 라이브러리 로딩\n",
    "import numpy as np # numpy를 np라는 별칭(allas)을 사용해 호출"
   ]
  },
  {
   "cell_type": "markdown",
   "id": "ce0931f1-6fdc-4cf2-987c-db417aee41a4",
   "metadata": {},
   "source": [
    "- 앞으로는 numpy에 대해서 numpy를 적지 않고 np를 통해 기능 구사할 것임"
   ]
  },
  {
   "cell_type": "markdown",
   "id": "8755e768-aad5-44cb-aa61-79204841be9a",
   "metadata": {
    "jp-MarkdownHeadingCollapsed": true
   },
   "source": [
    "## 1-1. 파이썬 리스트에서 넘파이로 변환\n",
    "- 파이썬 리스트가 넘파이와 유사하기 때문에 형태 보기"
   ]
  },
  {
   "cell_type": "code",
   "execution_count": 2,
   "id": "34c07cca-4500-49e0-9449-c27fe5b4a499",
   "metadata": {},
   "outputs": [],
   "source": [
    "# 예시\n",
    "a = [1, 3.14, True, 'hello'] # 리스트(정수형, 실수형, 분류형, 문자형)\n",
    "b = np.array(a) # 이걸 numpy array로 바꾸면 어떻게 될까?"
   ]
  },
  {
   "cell_type": "code",
   "execution_count": 3,
   "id": "9ceabcbe-2d95-4150-b2e2-bd66481b9cb6",
   "metadata": {},
   "outputs": [
    {
     "name": "stdout",
     "output_type": "stream",
     "text": [
      "[1, 3.14, True, 'hello']\n",
      "Data type of 1 : <class 'int'>\n",
      "Data type of 3.14 : <class 'float'>\n",
      "Data type of True : <class 'bool'>\n",
      "Data type of hello : <class 'str'>\n"
     ]
    }
   ],
   "source": [
    "# 리스트 원소 데이터 타입 확인\n",
    "print(a)\n",
    "for element in a:\n",
    "    print('Data type of {} : {}'.format(element, type(element)))"
   ]
  },
  {
   "cell_type": "markdown",
   "id": "b44eb86c-8e2d-4ea4-991b-d23313726724",
   "metadata": {},
   "source": [
    "- a의 리스트 원소와 아래 행으로는 각 요소들을 볼 수 있다. 각각이 어떤 데이터 타입을 가지고 있는지 보고"
   ]
  },
  {
   "cell_type": "code",
   "execution_count": 4,
   "id": "860440d1-10f8-47fb-ad9d-440d3dd57e83",
   "metadata": {},
   "outputs": [
    {
     "name": "stdout",
     "output_type": "stream",
     "text": [
      "['1' '3.14' 'True' 'hello']\n",
      "Data type of 1 : <class 'numpy.str_'>\n",
      "Data type of 3.14 : <class 'numpy.str_'>\n",
      "Data type of True : <class 'numpy.str_'>\n",
      "Data type of hello : <class 'numpy.str_'>\n"
     ]
    }
   ],
   "source": [
    "# 넘파이 배열 원소 확인\n",
    "print(b)\n",
    "for element in b:\n",
    "    print('Data type of {} : {}'.format(element, type(element)))"
   ]
  },
  {
   "cell_type": "markdown",
   "id": "41dd470f-964d-4f9f-ad1e-204d51fd7096",
   "metadata": {},
   "source": [
    "- 이걸 이제 변환된 numpy 배열로 변환시키면, 어떤 원소를 갖고 있고, 원소의 타입은 어떻게 되는가 확인하자.\n",
    "- 얼핏 보면 비슷하다. 그러나 모두 문자열로 치환되었다. \n",
    "- 이는 numpy가 하나의 데이터 타입만 받을 수 있기 때문이다. 그래서 string 문자열로 다 바뀌었다. "
   ]
  },
  {
   "cell_type": "markdown",
   "id": "333fb290-f7f4-44c3-a656-7cabfcaccd9b",
   "metadata": {
    "jp-MarkdownHeadingCollapsed": true
   },
   "source": [
    "## 1-2. 중첩 리스트를 넘파이 배열로 변환\n",
    "- 이제 a를 중첩 리스트로 만들어서 확인해보겠다. "
   ]
  },
  {
   "cell_type": "code",
   "execution_count": 5,
   "id": "bf2d38b7-ba7b-46c5-8a0d-49a276f0ef22",
   "metadata": {},
   "outputs": [
    {
     "name": "stdout",
     "output_type": "stream",
     "text": [
      "[[1, 2, 3], [4, 5, 6]]\n"
     ]
    }
   ],
   "source": [
    "# 중첩 리스트 생성\n",
    "a = [[1, 2, 3], [4, 5, 6]]\n",
    "print(a)"
   ]
  },
  {
   "cell_type": "code",
   "execution_count": 6,
   "id": "2bd2f11d-b76c-45b2-a1fd-634c7767ddd9",
   "metadata": {},
   "outputs": [
    {
     "data": {
      "text/plain": [
       "list"
      ]
     },
     "execution_count": 6,
     "metadata": {},
     "output_type": "execute_result"
    }
   ],
   "source": [
    "# 중첩리스트 데이터 타입 확인\n",
    "type(a)"
   ]
  },
  {
   "cell_type": "markdown",
   "id": "f51e434f-5374-44dc-8cc4-8bd23aee4153",
   "metadata": {},
   "source": [
    "- 중첩리스트의 데이터 타입은 마찬가지로 list가 된다. "
   ]
  },
  {
   "cell_type": "code",
   "execution_count": 7,
   "id": "0bf751e3-ead9-4756-813d-85351e309b28",
   "metadata": {},
   "outputs": [
    {
     "name": "stdout",
     "output_type": "stream",
     "text": [
      "[[1 2 3]\n",
      " [4 5 6]]\n"
     ]
    }
   ],
   "source": [
    "# 중첩리스트를 넘파이 배열로 변환 ==> 2차원인 행렬로 변환\n",
    "b = np.array(a)\n",
    "print(b)"
   ]
  },
  {
   "cell_type": "markdown",
   "id": "8f6b8713-60e3-4518-887b-c348939494fa",
   "metadata": {},
   "source": [
    "- 중첩리스트 같은 배열로 변하게 되었다. 이는 2차원 배열인 행렬 형태가 된다. "
   ]
  },
  {
   "cell_type": "code",
   "execution_count": 8,
   "id": "60ab8676-d5e8-4f8d-a80d-2121df57a80d",
   "metadata": {},
   "outputs": [
    {
     "data": {
      "text/plain": [
       "numpy.ndarray"
      ]
     },
     "execution_count": 8,
     "metadata": {},
     "output_type": "execute_result"
    }
   ],
   "source": [
    "# 행렬 데이터 타입 확인\n",
    "type(b)"
   ]
  },
  {
   "cell_type": "markdown",
   "id": "792e42b1-0bca-40a4-abdf-e68a64118f50",
   "metadata": {},
   "source": [
    "- 데이터 타입을 확인해보면 numpy가 제공하는 array임을 알 수 있다. "
   ]
  },
  {
   "cell_type": "code",
   "execution_count": 9,
   "id": "ba5eee54-d3a3-4089-a80a-cba2f12f5423",
   "metadata": {},
   "outputs": [
    {
     "data": {
      "text/plain": [
       "(2, 3)"
      ]
     },
     "execution_count": 9,
     "metadata": {},
     "output_type": "execute_result"
    }
   ],
   "source": [
    "# 배열(array)의 shape 확인\n",
    "b.shape # (2, 3)"
   ]
  },
  {
   "cell_type": "code",
   "execution_count": 10,
   "id": "9b6f5d40-e024-461d-8746-41e57d2a62e4",
   "metadata": {},
   "outputs": [
    {
     "data": {
      "text/plain": [
       "2"
      ]
     },
     "execution_count": 10,
     "metadata": {},
     "output_type": "execute_result"
    }
   ],
   "source": [
    "# 배열(array)의 차원 확인\n",
    "b.ndim # 2"
   ]
  },
  {
   "cell_type": "code",
   "execution_count": 11,
   "id": "7fded6a6-de6d-44c7-a630-3dbd9a6820ec",
   "metadata": {},
   "outputs": [
    {
     "data": {
      "text/plain": [
       "6"
      ]
     },
     "execution_count": 11,
     "metadata": {},
     "output_type": "execute_result"
    }
   ],
   "source": [
    "# 배열 내 총 원소 개수 확인\n",
    "b.size # 6"
   ]
  },
  {
   "cell_type": "code",
   "execution_count": 12,
   "id": "d5f1b5da-1d36-422e-a5bf-b1e55d23eb15",
   "metadata": {},
   "outputs": [
    {
     "name": "stdout",
     "output_type": "stream",
     "text": [
      "[[1 2]\n",
      " [3 4]\n",
      " [5 6]]\n"
     ]
    }
   ],
   "source": [
    "# 2x3 행렬을 3x2로 바꿔보자\n",
    "print(b.reshape(3, 2)) # 단순하게 reshape 메소드를 호출하면 된다. "
   ]
  },
  {
   "cell_type": "code",
   "execution_count": 13,
   "id": "fed4fa6e-44a5-4222-ba1a-d63aa7b1f3f6",
   "metadata": {},
   "outputs": [
    {
     "name": "stdout",
     "output_type": "stream",
     "text": [
      "[[1. 2. 3.]\n",
      " [4. 5. 6.]]\n"
     ]
    }
   ],
   "source": [
    "# 배열 요소 데이터타입 변경 : 정수 -> 실수\n",
    "b = np.array(a, dtype=np.float64) # dtype 인수 설정\n",
    "print(b)"
   ]
  },
  {
   "cell_type": "markdown",
   "id": "18d02f68-2542-4515-9736-5cd125a434c2",
   "metadata": {},
   "source": [
    "- 1, 2, 3, 4, 5, 6 이라는 정수를 갖고 있었다.\n",
    "- 거기에 dtype라는 인수를 명시해줘서 float로 바꾸겠다 라고 명시\n",
    "- 결과: 1., 2. 이런 식으로 숫자 뒤에 .이 붙는다. 이건 실수임을 의미"
   ]
  },
  {
   "cell_type": "code",
   "execution_count": 14,
   "id": "72a48407-3242-45ca-88bd-efc07940c7dd",
   "metadata": {},
   "outputs": [
    {
     "name": "stdout",
     "output_type": "stream",
     "text": [
      "[[1 2 3]\n",
      " [4 5 6]]\n"
     ]
    }
   ],
   "source": [
    "# 배열 요소 데이터타입 변경 : 실수 -> 정수 # 다른 방식으로?\n",
    "b = b.astype(np.int64) # 사후 변경 시 astype 메서드로 변경 가능\n",
    "print(b)"
   ]
  },
  {
   "cell_type": "markdown",
   "id": "2075f395-cfd3-4211-b0d6-3ce1bae49b0d",
   "metadata": {},
   "source": [
    "## 2-1. 넘파이 배열 인덱싱"
   ]
  },
  {
   "cell_type": "markdown",
   "id": "d3c811d6-f59d-4c75-959d-d97f1c40b6e9",
   "metadata": {
    "jp-MarkdownHeadingCollapsed": true
   },
   "source": [
    "### 2-1-1. 1차원 배열 인덱싱"
   ]
  },
  {
   "cell_type": "code",
   "execution_count": 15,
   "id": "295e115f-ad78-48e3-a952-d247257b9619",
   "metadata": {},
   "outputs": [],
   "source": [
    "# 새로운 배열 arr 생성\n",
    "arr = np.array([1, 2, 3, 4, 5])"
   ]
  },
  {
   "cell_type": "markdown",
   "id": "292a0ce7-7dfe-4801-ba09-3bbcfd0a167f",
   "metadata": {},
   "source": [
    "- 1차원 배열 인덱싱은 파이썬의 list 인덱싱과 동일함\n",
    "- arr(array를 뜻하는) 변수를 하나 생성한 뒤에, 그 변수는 1, 2, 3, 4, 5 numpy 배열이 된다. "
   ]
  },
  {
   "cell_type": "code",
   "execution_count": 16,
   "id": "e9213174-b539-4147-b4c8-d90bd9a172f4",
   "metadata": {},
   "outputs": [
    {
     "name": "stdout",
     "output_type": "stream",
     "text": [
      "[1 2 3 4 5]\n"
     ]
    }
   ],
   "source": [
    "print(arr)"
   ]
  },
  {
   "cell_type": "code",
   "execution_count": 17,
   "id": "8eda9f57-b225-4a89-a852-d628d40a0310",
   "metadata": {},
   "outputs": [
    {
     "name": "stdout",
     "output_type": "stream",
     "text": [
      "1\n"
     ]
    }
   ],
   "source": [
    "# 배열 첫번쨰 원소 가져오기\n",
    "print(arr[0])"
   ]
  },
  {
   "cell_type": "code",
   "execution_count": 18,
   "id": "c08a4433-156d-4cde-8741-b80561ec8848",
   "metadata": {},
   "outputs": [
    {
     "name": "stdout",
     "output_type": "stream",
     "text": [
      "4\n"
     ]
    }
   ],
   "source": [
    "# 배열 네번쨰 원소 가져오기\n",
    "print(arr[3])"
   ]
  },
  {
   "cell_type": "code",
   "execution_count": 19,
   "id": "2a898fdb-bdb0-412f-b87f-0c4956152226",
   "metadata": {},
   "outputs": [
    {
     "name": "stdout",
     "output_type": "stream",
     "text": [
      "5\n"
     ]
    }
   ],
   "source": [
    "# 배열 마지막 원소 가져오기\n",
    "print(arr[-1]) # -1을 입력하면 마지막 변수 가져올 수 있음"
   ]
  },
  {
   "cell_type": "markdown",
   "id": "62ff3348-6edf-40e2-bf99-fb333fbc068c",
   "metadata": {
    "jp-MarkdownHeadingCollapsed": true
   },
   "source": [
    "### 2-1-2. 2차원 배열 인덱싱\n",
    "- 2차원 이상의 배열일 경우에는 , 를 사용하여 원하는 데이터에 접근할 수 있다.\n",
    "- 이 부분이 python 데이터 list와 가장 차이가 나는 부분"
   ]
  },
  {
   "cell_type": "code",
   "execution_count": 20,
   "id": "2c036cbd-18a8-4771-a7a8-aa220c132729",
   "metadata": {},
   "outputs": [],
   "source": [
    "# 2차원 배열 생성\n",
    "arr_2d = np.array([[1, 2, 3], [4, 5, 6]])"
   ]
  },
  {
   "cell_type": "code",
   "execution_count": 21,
   "id": "1ffc6d4f-cc73-4b36-b1fc-d59dec100ee8",
   "metadata": {},
   "outputs": [],
   "source": [
    "# 위의 형태가 익숙하지 않다면, 행렬의 모양으로 직관적으로 표현하면 도움됨\n",
    "arr_2d = np.array([[1, 2, 3], \n",
    "                   [4, 5, 6]])"
   ]
  },
  {
   "cell_type": "code",
   "execution_count": 22,
   "id": "33446cdd-5e34-4927-bdec-165b026fe23e",
   "metadata": {},
   "outputs": [
    {
     "data": {
      "text/plain": [
       "1"
      ]
     },
     "execution_count": 22,
     "metadata": {},
     "output_type": "execute_result"
    }
   ],
   "source": [
    "# 1행 1열 원소 가져오기 --> arr[행, 열]로 명시하여 원하는 위치의 데이터에 접근 가능\n",
    "arr_2d[0, 0] # 콤마를 기준으로 '행'과 '열'을 구분하는 것임"
   ]
  },
  {
   "cell_type": "code",
   "execution_count": 23,
   "id": "aec76b51-319b-4dc1-b70c-e1d0f68f980f",
   "metadata": {},
   "outputs": [
    {
     "data": {
      "text/plain": [
       "6"
      ]
     },
     "execution_count": 23,
     "metadata": {},
     "output_type": "execute_result"
    }
   ],
   "source": [
    "# 2행 3열 원소 가져오기\n",
    "arr_2d[1, 2] # 콤마를 기준으로 두번째 행(1)과 세번쨰 열(3)의 원소에 접근 가능"
   ]
  },
  {
   "cell_type": "markdown",
   "id": "8f96bd9d-e296-43da-950e-c2a1b66fa873",
   "metadata": {
    "jp-MarkdownHeadingCollapsed": true
   },
   "source": [
    "## 3-1. 배열 슬라이싱\n",
    "- numpy array의 원소 중 한 개 이상의 연속된 원소들에 접근할 때 사용\n",
    "- 이때도 , 로 행과 열을 구분 가능\n",
    "- 1차원 배열은 사실상 list와 비슷하므로, 생략함"
   ]
  },
  {
   "cell_type": "markdown",
   "id": "6a35053f-f2e2-4065-8ee9-845ca1837314",
   "metadata": {},
   "source": [
    "### 3-1-1. 2차원 배열 슬라이싱"
   ]
  },
  {
   "cell_type": "code",
   "execution_count": 24,
   "id": "e413bd18-3b65-40ae-9c52-5ab080b509ba",
   "metadata": {},
   "outputs": [
    {
     "name": "stdout",
     "output_type": "stream",
     "text": [
      "[[1 2 3]\n",
      " [4 5 6]]\n"
     ]
    }
   ],
   "source": [
    "# 슬라이싱 실습에 사용할 넘파이 배열을 arange라는 넘파이 메서드를 이용해서 만들어보자\n",
    "arr_2d = np.arange(1, 7).reshape(2, 3)\n",
    "\n",
    "print(arr_2d)"
   ]
  },
  {
   "cell_type": "markdown",
   "id": "1e4f9ef6-d5ae-410c-82b3-d9c91006375e",
   "metadata": {},
   "source": [
    "- arange(시작 숫자, 끝 숫자): 시작 숫자부터 끝 숫자 -1까지의 번호가 나열되어 저장됨(ex. 1, 2, 3, 4, 5, 6까지의 원소를 array에 담겠다)\n",
    "- reshape(행, 열) : 원소 개수에 맞춰 reshape을 활용하면 배열의 크기를 바꿀 수 있다(ex. 1차원 배열을 2행 3열인 행렬로 변환)\n",
    "- 또한 활용에 따라 차원도 변경이 가능하다는 것을 알아두자!- "
   ]
  },
  {
   "cell_type": "code",
   "execution_count": 25,
   "id": "8449b8d8-36da-4ec1-8b0a-8b6ef7e01dc6",
   "metadata": {},
   "outputs": [
    {
     "name": "stdout",
     "output_type": "stream",
     "text": [
      "[1 2 3]\n"
     ]
    }
   ],
   "source": [
    "# 첫번째 행 전체 가져오기\n",
    "print(arr_2d[0, :]) # 첫번쨰 행(0)에 대해 모든 열(:)의 값 출력"
   ]
  },
  {
   "cell_type": "code",
   "execution_count": 26,
   "id": "4526ed2b-7152-4a24-866e-1a942fe89acf",
   "metadata": {},
   "outputs": [
    {
     "name": "stdout",
     "output_type": "stream",
     "text": [
      "[3 6]\n"
     ]
    }
   ],
   "source": [
    "# 세번째 열 전체 출력\n",
    "print(arr_2d[:, 2]) # 3번쨰 열(3, 6)에 있는 모든 원소 출력"
   ]
  },
  {
   "cell_type": "code",
   "execution_count": 27,
   "id": "57cc509c-2042-431f-b73e-19977d31c8b5",
   "metadata": {},
   "outputs": [
    {
     "name": "stdout",
     "output_type": "stream",
     "text": [
      "[[1 2]\n",
      " [4 5]]\n"
     ]
    }
   ],
   "source": [
    "# 전체 행 두번째 열까지 모두 출력\n",
    "print(arr_2d[:, :2]) # :2 = 0, 1"
   ]
  },
  {
   "cell_type": "markdown",
   "id": "051be21c-d0e5-4758-98b5-9f10c836da43",
   "metadata": {},
   "source": [
    "# Pandas 실습"
   ]
  },
  {
   "cell_type": "code",
   "execution_count": 28,
   "id": "4096d811-e686-4a50-95c2-a296aa0b1060",
   "metadata": {},
   "outputs": [],
   "source": [
    "# 라이브러리 로딩\n",
    "import pandas as pd # pandas를 pd라는 별칭(allas)을 사용해 호출"
   ]
  },
  {
   "cell_type": "markdown",
   "id": "4f0bb360-e194-4806-855d-e5602d05489d",
   "metadata": {
    "jp-MarkdownHeadingCollapsed": true
   },
   "source": [
    "## 1-1. 데이터 생성"
   ]
  },
  {
   "cell_type": "code",
   "execution_count": 29,
   "id": "14db6029-af70-4303-9c19-cccf42a38335",
   "metadata": {},
   "outputs": [],
   "source": [
    "# 예시\n",
    "data = {\n",
    "    '이름': ['아이유', '김연아', '홍길동', '장범준', '강감찬'],\n",
    "    '학과': ['국문학', '수학', '컴퓨터', '철학', '경영학'],\n",
    "    '성적': [3.0, 1.0, 3.5, 2.7, 4.0]\n",
    "}"
   ]
  },
  {
   "cell_type": "markdown",
   "id": "8b442df3-ae90-4d0a-87d5-b97a0aa54ff5",
   "metadata": {},
   "source": [
    "- 이 dictionary는 이름, 학과, 성적이라는 key와 그에 따른 value가 나타나 있다."
   ]
  },
  {
   "cell_type": "code",
   "execution_count": 30,
   "id": "bae68d11-9b65-4758-a361-9e5dfa462ef5",
   "metadata": {},
   "outputs": [
    {
     "data": {
      "text/plain": [
       "{'이름': ['아이유', '김연아', '홍길동', '장범준', '강감찬'],\n",
       " '학과': ['국문학', '수학', '컴퓨터', '철학', '경영학'],\n",
       " '성적': [3.0, 1.0, 3.5, 2.7, 4.0]}"
      ]
     },
     "execution_count": 30,
     "metadata": {},
     "output_type": "execute_result"
    }
   ],
   "source": [
    "data"
   ]
  },
  {
   "cell_type": "markdown",
   "id": "4fb03868-32c3-4bb4-92f5-d98de8067adf",
   "metadata": {
    "jp-MarkdownHeadingCollapsed": true
   },
   "source": [
    "## 1-2. 데이터 프레임으로 변환"
   ]
  },
  {
   "cell_type": "code",
   "execution_count": 31,
   "id": "4390d27d-be02-406d-8c48-0ed608f2e734",
   "metadata": {},
   "outputs": [
    {
     "data": {
      "text/html": [
       "<div>\n",
       "<style scoped>\n",
       "    .dataframe tbody tr th:only-of-type {\n",
       "        vertical-align: middle;\n",
       "    }\n",
       "\n",
       "    .dataframe tbody tr th {\n",
       "        vertical-align: top;\n",
       "    }\n",
       "\n",
       "    .dataframe thead th {\n",
       "        text-align: right;\n",
       "    }\n",
       "</style>\n",
       "<table border=\"1\" class=\"dataframe\">\n",
       "  <thead>\n",
       "    <tr style=\"text-align: right;\">\n",
       "      <th></th>\n",
       "      <th>이름</th>\n",
       "      <th>학과</th>\n",
       "      <th>성적</th>\n",
       "    </tr>\n",
       "  </thead>\n",
       "  <tbody>\n",
       "    <tr>\n",
       "      <th>0</th>\n",
       "      <td>아이유</td>\n",
       "      <td>국문학</td>\n",
       "      <td>3.0</td>\n",
       "    </tr>\n",
       "    <tr>\n",
       "      <th>1</th>\n",
       "      <td>김연아</td>\n",
       "      <td>수학</td>\n",
       "      <td>1.0</td>\n",
       "    </tr>\n",
       "    <tr>\n",
       "      <th>2</th>\n",
       "      <td>홍길동</td>\n",
       "      <td>컴퓨터</td>\n",
       "      <td>3.5</td>\n",
       "    </tr>\n",
       "    <tr>\n",
       "      <th>3</th>\n",
       "      <td>장범준</td>\n",
       "      <td>철학</td>\n",
       "      <td>2.7</td>\n",
       "    </tr>\n",
       "    <tr>\n",
       "      <th>4</th>\n",
       "      <td>강감찬</td>\n",
       "      <td>경영학</td>\n",
       "      <td>4.0</td>\n",
       "    </tr>\n",
       "  </tbody>\n",
       "</table>\n",
       "</div>"
      ],
      "text/plain": [
       "    이름   학과   성적\n",
       "0  아이유  국문학  3.0\n",
       "1  김연아   수학  1.0\n",
       "2  홍길동  컴퓨터  3.5\n",
       "3  장범준   철학  2.7\n",
       "4  강감찬  경영학  4.0"
      ]
     },
     "metadata": {},
     "output_type": "display_data"
    }
   ],
   "source": [
    "# 딕셔너리 타입인 data를 pd.DataFrame() 인자로 넣어주면 된다!\n",
    "df = pd.DataFrame(data) # pandas가 제공하는 DataFreme 함수를 사용해서 딕셔너리(data)를 넣어준다. \n",
    "\n",
    "display(df) # display 함수를 사용하면 -> 쉽고 이쁘게 출력 가능"
   ]
  },
  {
   "cell_type": "markdown",
   "id": "af981bb2-8f5b-4247-827c-da447d402559",
   "metadata": {
    "jp-MarkdownHeadingCollapsed": true
   },
   "source": [
    "## 2-1. 데이터 csv로 저장하기"
   ]
  },
  {
   "cell_type": "code",
   "execution_count": 32,
   "id": "8c59ebe7-22ab-4109-a18d-8b0c2414a1da",
   "metadata": {},
   "outputs": [
    {
     "name": "stdout",
     "output_type": "stream",
     "text": [
      "현재 워킹 디렉터리: C:\\Users\\user\\AIBLE SCHOOL_pre\n"
     ]
    }
   ],
   "source": [
    "# 현재 워킹 디렉터리 확인\n",
    "import os\n",
    "\n",
    "current_directory = os.getcwd()\n",
    "\n",
    "print(f\"현재 워킹 디렉터리: {current_directory}\")"
   ]
  },
  {
   "cell_type": "code",
   "execution_count": 33,
   "id": "ac9bbbba-1276-42c9-b140-184c7e5bddd0",
   "metadata": {},
   "outputs": [],
   "source": [
    "# 데이터프레임을 csv로 저장 --> to_csv 메소드 이용\n",
    "df.to_csv('./data/student.csv', sep=',', index=False)"
   ]
  },
  {
   "cell_type": "markdown",
   "id": "fa30064a-7696-4e7c-be06-77dc9cb2bf52",
   "metadata": {},
   "source": [
    "- .은 현재 있는 위치의 working directory를 말함\n",
    "- 현재 주피터 노트북 파일이 있는 워킹 디렉토리에 data라는 폴더가 있고, 그 안에 student라는 이름으로 csv 파일을 저장하겠다\n",
    "- csv는 ,로 구분되기에 sep을 , 로 해준다\n",
    "- index(0, 1, 2, 3, 4....) 이게 들어가지 않도록 false 해주어야 함"
   ]
  },
  {
   "cell_type": "markdown",
   "id": "01fb22af-c70c-4a94-81e4-380769e894df",
   "metadata": {
    "jp-MarkdownHeadingCollapsed": true
   },
   "source": [
    "## 2-2. 데이터 불러오기"
   ]
  },
  {
   "cell_type": "code",
   "execution_count": 34,
   "id": "c972cde2-398a-4965-a160-ce4e904fc9b7",
   "metadata": {},
   "outputs": [
    {
     "data": {
      "text/html": [
       "<div>\n",
       "<style scoped>\n",
       "    .dataframe tbody tr th:only-of-type {\n",
       "        vertical-align: middle;\n",
       "    }\n",
       "\n",
       "    .dataframe tbody tr th {\n",
       "        vertical-align: top;\n",
       "    }\n",
       "\n",
       "    .dataframe thead th {\n",
       "        text-align: right;\n",
       "    }\n",
       "</style>\n",
       "<table border=\"1\" class=\"dataframe\">\n",
       "  <thead>\n",
       "    <tr style=\"text-align: right;\">\n",
       "      <th></th>\n",
       "      <th>이름</th>\n",
       "      <th>학과</th>\n",
       "      <th>성적</th>\n",
       "    </tr>\n",
       "  </thead>\n",
       "  <tbody>\n",
       "    <tr>\n",
       "      <th>0</th>\n",
       "      <td>아이유</td>\n",
       "      <td>국문학</td>\n",
       "      <td>3.0</td>\n",
       "    </tr>\n",
       "    <tr>\n",
       "      <th>1</th>\n",
       "      <td>김연아</td>\n",
       "      <td>수학</td>\n",
       "      <td>1.0</td>\n",
       "    </tr>\n",
       "    <tr>\n",
       "      <th>2</th>\n",
       "      <td>홍길동</td>\n",
       "      <td>컴퓨터</td>\n",
       "      <td>3.5</td>\n",
       "    </tr>\n",
       "    <tr>\n",
       "      <th>3</th>\n",
       "      <td>장범준</td>\n",
       "      <td>철학</td>\n",
       "      <td>2.7</td>\n",
       "    </tr>\n",
       "    <tr>\n",
       "      <th>4</th>\n",
       "      <td>강감찬</td>\n",
       "      <td>경영학</td>\n",
       "      <td>4.0</td>\n",
       "    </tr>\n",
       "  </tbody>\n",
       "</table>\n",
       "</div>"
      ],
      "text/plain": [
       "    이름   학과   성적\n",
       "0  아이유  국문학  3.0\n",
       "1  김연아   수학  1.0\n",
       "2  홍길동  컴퓨터  3.5\n",
       "3  장범준   철학  2.7\n",
       "4  강감찬  경영학  4.0"
      ]
     },
     "metadata": {},
     "output_type": "display_data"
    }
   ],
   "source": [
    "# 데이터 로딩은 pandas의 read_csv라는 함수를 활용하면 됨\n",
    "df = pd.read_csv('./data/student.csv') # 경로설정만 잘 해주면 됨\n",
    "display(df)"
   ]
  },
  {
   "cell_type": "markdown",
   "id": "f97ca82c-aca9-4963-8783-9e39ae03b302",
   "metadata": {},
   "source": [
    "## 3-1. pandas로 원하는 데이터 선택하기"
   ]
  },
  {
   "cell_type": "markdown",
   "id": "d19851ba-1b8f-4e2d-94b8-55eefd8015a1",
   "metadata": {
    "jp-MarkdownHeadingCollapsed": true
   },
   "source": [
    "## 4-1. 슬라이싱(slicing)"
   ]
  },
  {
   "cell_type": "code",
   "execution_count": 35,
   "id": "5761d678-b358-4de1-826f-e47b6ce82981",
   "metadata": {},
   "outputs": [
    {
     "data": {
      "text/html": [
       "<div>\n",
       "<style scoped>\n",
       "    .dataframe tbody tr th:only-of-type {\n",
       "        vertical-align: middle;\n",
       "    }\n",
       "\n",
       "    .dataframe tbody tr th {\n",
       "        vertical-align: top;\n",
       "    }\n",
       "\n",
       "    .dataframe thead th {\n",
       "        text-align: right;\n",
       "    }\n",
       "</style>\n",
       "<table border=\"1\" class=\"dataframe\">\n",
       "  <thead>\n",
       "    <tr style=\"text-align: right;\">\n",
       "      <th></th>\n",
       "      <th>이름</th>\n",
       "      <th>학과</th>\n",
       "      <th>성적</th>\n",
       "    </tr>\n",
       "  </thead>\n",
       "  <tbody>\n",
       "    <tr>\n",
       "      <th>1</th>\n",
       "      <td>김연아</td>\n",
       "      <td>수학</td>\n",
       "      <td>1.0</td>\n",
       "    </tr>\n",
       "    <tr>\n",
       "      <th>2</th>\n",
       "      <td>홍길동</td>\n",
       "      <td>컴퓨터</td>\n",
       "      <td>3.5</td>\n",
       "    </tr>\n",
       "    <tr>\n",
       "      <th>3</th>\n",
       "      <td>장범준</td>\n",
       "      <td>철학</td>\n",
       "      <td>2.7</td>\n",
       "    </tr>\n",
       "    <tr>\n",
       "      <th>4</th>\n",
       "      <td>강감찬</td>\n",
       "      <td>경영학</td>\n",
       "      <td>4.0</td>\n",
       "    </tr>\n",
       "  </tbody>\n",
       "</table>\n",
       "</div>"
      ],
      "text/plain": [
       "    이름   학과   성적\n",
       "1  김연아   수학  1.0\n",
       "2  홍길동  컴퓨터  3.5\n",
       "3  장범준   철학  2.7\n",
       "4  강감찬  경영학  4.0"
      ]
     },
     "execution_count": 35,
     "metadata": {},
     "output_type": "execute_result"
    }
   ],
   "source": [
    "# 데이터 슬라이싱\n",
    "df[1:5] # 데이터의 1번 행부터 4번 행까지"
   ]
  },
  {
   "cell_type": "code",
   "execution_count": 36,
   "id": "40d62d31-22b1-4aba-be2d-2f00e3452238",
   "metadata": {},
   "outputs": [
    {
     "data": {
      "text/html": [
       "<div>\n",
       "<style scoped>\n",
       "    .dataframe tbody tr th:only-of-type {\n",
       "        vertical-align: middle;\n",
       "    }\n",
       "\n",
       "    .dataframe tbody tr th {\n",
       "        vertical-align: top;\n",
       "    }\n",
       "\n",
       "    .dataframe thead th {\n",
       "        text-align: right;\n",
       "    }\n",
       "</style>\n",
       "<table border=\"1\" class=\"dataframe\">\n",
       "  <thead>\n",
       "    <tr style=\"text-align: right;\">\n",
       "      <th></th>\n",
       "      <th>이름</th>\n",
       "      <th>학과</th>\n",
       "      <th>성적</th>\n",
       "    </tr>\n",
       "  </thead>\n",
       "  <tbody>\n",
       "    <tr>\n",
       "      <th>0</th>\n",
       "      <td>아이유</td>\n",
       "      <td>국문학</td>\n",
       "      <td>3.0</td>\n",
       "    </tr>\n",
       "    <tr>\n",
       "      <th>1</th>\n",
       "      <td>김연아</td>\n",
       "      <td>수학</td>\n",
       "      <td>1.0</td>\n",
       "    </tr>\n",
       "    <tr>\n",
       "      <th>2</th>\n",
       "      <td>홍길동</td>\n",
       "      <td>컴퓨터</td>\n",
       "      <td>3.5</td>\n",
       "    </tr>\n",
       "  </tbody>\n",
       "</table>\n",
       "</div>"
      ],
      "text/plain": [
       "    이름   학과   성적\n",
       "0  아이유  국문학  3.0\n",
       "1  김연아   수학  1.0\n",
       "2  홍길동  컴퓨터  3.5"
      ]
     },
     "execution_count": 36,
     "metadata": {},
     "output_type": "execute_result"
    }
   ],
   "source": [
    "df[0:3] # 첫번째부터 세번째 행까지"
   ]
  },
  {
   "cell_type": "code",
   "execution_count": 37,
   "id": "79c729ce-058d-46e4-bce1-c679953c7467",
   "metadata": {},
   "outputs": [
    {
     "data": {
      "text/html": [
       "<div>\n",
       "<style scoped>\n",
       "    .dataframe tbody tr th:only-of-type {\n",
       "        vertical-align: middle;\n",
       "    }\n",
       "\n",
       "    .dataframe tbody tr th {\n",
       "        vertical-align: top;\n",
       "    }\n",
       "\n",
       "    .dataframe thead th {\n",
       "        text-align: right;\n",
       "    }\n",
       "</style>\n",
       "<table border=\"1\" class=\"dataframe\">\n",
       "  <thead>\n",
       "    <tr style=\"text-align: right;\">\n",
       "      <th></th>\n",
       "      <th>이름</th>\n",
       "      <th>학과</th>\n",
       "      <th>성적</th>\n",
       "    </tr>\n",
       "  </thead>\n",
       "  <tbody>\n",
       "    <tr>\n",
       "      <th>0</th>\n",
       "      <td>아이유</td>\n",
       "      <td>국문학</td>\n",
       "      <td>3.0</td>\n",
       "    </tr>\n",
       "    <tr>\n",
       "      <th>1</th>\n",
       "      <td>김연아</td>\n",
       "      <td>수학</td>\n",
       "      <td>1.0</td>\n",
       "    </tr>\n",
       "    <tr>\n",
       "      <th>2</th>\n",
       "      <td>홍길동</td>\n",
       "      <td>컴퓨터</td>\n",
       "      <td>3.5</td>\n",
       "    </tr>\n",
       "    <tr>\n",
       "      <th>3</th>\n",
       "      <td>장범준</td>\n",
       "      <td>철학</td>\n",
       "      <td>2.7</td>\n",
       "    </tr>\n",
       "    <tr>\n",
       "      <th>4</th>\n",
       "      <td>강감찬</td>\n",
       "      <td>경영학</td>\n",
       "      <td>4.0</td>\n",
       "    </tr>\n",
       "  </tbody>\n",
       "</table>\n",
       "</div>"
      ],
      "text/plain": [
       "    이름   학과   성적\n",
       "0  아이유  국문학  3.0\n",
       "1  김연아   수학  1.0\n",
       "2  홍길동  컴퓨터  3.5\n",
       "3  장범준   철학  2.7\n",
       "4  강감찬  경영학  4.0"
      ]
     },
     "execution_count": 37,
     "metadata": {},
     "output_type": "execute_result"
    }
   ],
   "source": [
    "df[0:] # 모든 행의 데이터에 접근"
   ]
  },
  {
   "cell_type": "code",
   "execution_count": 38,
   "id": "def79576-46b8-4f50-8c27-54ff86a97eee",
   "metadata": {},
   "outputs": [
    {
     "data": {
      "text/html": [
       "<div>\n",
       "<style scoped>\n",
       "    .dataframe tbody tr th:only-of-type {\n",
       "        vertical-align: middle;\n",
       "    }\n",
       "\n",
       "    .dataframe tbody tr th {\n",
       "        vertical-align: top;\n",
       "    }\n",
       "\n",
       "    .dataframe thead th {\n",
       "        text-align: right;\n",
       "    }\n",
       "</style>\n",
       "<table border=\"1\" class=\"dataframe\">\n",
       "  <thead>\n",
       "    <tr style=\"text-align: right;\">\n",
       "      <th></th>\n",
       "      <th>이름</th>\n",
       "      <th>학과</th>\n",
       "      <th>성적</th>\n",
       "    </tr>\n",
       "  </thead>\n",
       "  <tbody>\n",
       "    <tr>\n",
       "      <th>0</th>\n",
       "      <td>아이유</td>\n",
       "      <td>국문학</td>\n",
       "      <td>3.0</td>\n",
       "    </tr>\n",
       "    <tr>\n",
       "      <th>1</th>\n",
       "      <td>김연아</td>\n",
       "      <td>수학</td>\n",
       "      <td>1.0</td>\n",
       "    </tr>\n",
       "    <tr>\n",
       "      <th>2</th>\n",
       "      <td>홍길동</td>\n",
       "      <td>컴퓨터</td>\n",
       "      <td>3.5</td>\n",
       "    </tr>\n",
       "    <tr>\n",
       "      <th>3</th>\n",
       "      <td>장범준</td>\n",
       "      <td>철학</td>\n",
       "      <td>2.7</td>\n",
       "    </tr>\n",
       "    <tr>\n",
       "      <th>4</th>\n",
       "      <td>강감찬</td>\n",
       "      <td>경영학</td>\n",
       "      <td>4.0</td>\n",
       "    </tr>\n",
       "  </tbody>\n",
       "</table>\n",
       "</div>"
      ],
      "text/plain": [
       "    이름   학과   성적\n",
       "0  아이유  국문학  3.0\n",
       "1  김연아   수학  1.0\n",
       "2  홍길동  컴퓨터  3.5\n",
       "3  장범준   철학  2.7\n",
       "4  강감찬  경영학  4.0"
      ]
     },
     "execution_count": 38,
     "metadata": {},
     "output_type": "execute_result"
    }
   ],
   "source": [
    "df[:] # 위와 동일한 카드"
   ]
  },
  {
   "cell_type": "code",
   "execution_count": 39,
   "id": "ae026610-40bd-4f56-8596-2ab8e0a18aff",
   "metadata": {},
   "outputs": [
    {
     "data": {
      "text/html": [
       "<div>\n",
       "<style scoped>\n",
       "    .dataframe tbody tr th:only-of-type {\n",
       "        vertical-align: middle;\n",
       "    }\n",
       "\n",
       "    .dataframe tbody tr th {\n",
       "        vertical-align: top;\n",
       "    }\n",
       "\n",
       "    .dataframe thead th {\n",
       "        text-align: right;\n",
       "    }\n",
       "</style>\n",
       "<table border=\"1\" class=\"dataframe\">\n",
       "  <thead>\n",
       "    <tr style=\"text-align: right;\">\n",
       "      <th></th>\n",
       "      <th>이름</th>\n",
       "      <th>학과</th>\n",
       "      <th>성적</th>\n",
       "    </tr>\n",
       "  </thead>\n",
       "  <tbody>\n",
       "    <tr>\n",
       "      <th>0</th>\n",
       "      <td>아이유</td>\n",
       "      <td>국문학</td>\n",
       "      <td>3.0</td>\n",
       "    </tr>\n",
       "    <tr>\n",
       "      <th>1</th>\n",
       "      <td>김연아</td>\n",
       "      <td>수학</td>\n",
       "      <td>1.0</td>\n",
       "    </tr>\n",
       "    <tr>\n",
       "      <th>2</th>\n",
       "      <td>홍길동</td>\n",
       "      <td>컴퓨터</td>\n",
       "      <td>3.5</td>\n",
       "    </tr>\n",
       "    <tr>\n",
       "      <th>3</th>\n",
       "      <td>장범준</td>\n",
       "      <td>철학</td>\n",
       "      <td>2.7</td>\n",
       "    </tr>\n",
       "    <tr>\n",
       "      <th>4</th>\n",
       "      <td>강감찬</td>\n",
       "      <td>경영학</td>\n",
       "      <td>4.0</td>\n",
       "    </tr>\n",
       "  </tbody>\n",
       "</table>\n",
       "</div>"
      ],
      "text/plain": [
       "    이름   학과   성적\n",
       "0  아이유  국문학  3.0\n",
       "1  김연아   수학  1.0\n",
       "2  홍길동  컴퓨터  3.5\n",
       "3  장범준   철학  2.7\n",
       "4  강감찬  경영학  4.0"
      ]
     },
     "execution_count": 39,
     "metadata": {},
     "output_type": "execute_result"
    }
   ],
   "source": [
    "df # 그냥 이렇게 쳐도 됨"
   ]
  },
  {
   "cell_type": "markdown",
   "id": "457ea096-d9ff-450a-8c86-88dd9b5fa028",
   "metadata": {
    "jp-MarkdownHeadingCollapsed": true
   },
   "source": [
    "## 5-1. 인덱싱(indexing)\n",
    "- 만약에 데이터 프레임에 대해서 인덱싱한다면 어떻게 될까?"
   ]
  },
  {
   "cell_type": "code",
   "execution_count": 44,
   "id": "66604253-3f6e-487f-86d9-c864c614d70d",
   "metadata": {},
   "outputs": [],
   "source": [
    "# 그냥 나는 numpy처럼 두번째 행에 대한 정보를 가져오고 싶어. \n",
    "# df[1] # key error가 뜬다. 데이터 프레임엔 이런 방식으로 인덱싱할 수 없기 때문!"
   ]
  },
  {
   "cell_type": "markdown",
   "id": "690d728b-938a-40f7-997c-c1dfc36775be",
   "metadata": {
    "jp-MarkdownHeadingCollapsed": true
   },
   "source": [
    "### 5-1-1. 단순 인덱싱(indexing)\n",
    "- 만약에 데이터 프레임에 대해서 인덱싱한다면 어떻게 될까?"
   ]
  },
  {
   "cell_type": "code",
   "execution_count": 42,
   "id": "474f1cd3-d0c3-4cca-b895-a90f4e03cc78",
   "metadata": {},
   "outputs": [
    {
     "data": {
      "text/plain": [
       "0    아이유\n",
       "1    김연아\n",
       "2    홍길동\n",
       "3    장범준\n",
       "4    강감찬\n",
       "Name: 이름, dtype: object"
      ]
     },
     "execution_count": 42,
     "metadata": {},
     "output_type": "execute_result"
    }
   ],
   "source": [
    "# 데이터 프레임으로 인덱싱하려면 컬럼명을 주어야 한다! \n",
    "df['이름']"
   ]
  },
  {
   "cell_type": "markdown",
   "id": "a74745c3-7dd0-41bb-ba2e-445cc5a3b324",
   "metadata": {},
   "source": [
    "- 이름이라는 column이 있기 때문에 이름에 대해서 indexing 한다면, 이렇게 이름에 대한 series가 출력됨"
   ]
  },
  {
   "cell_type": "code",
   "execution_count": 45,
   "id": "64e73f35-b459-4ec0-8c0e-6da6849ab2cc",
   "metadata": {},
   "outputs": [
    {
     "data": {
      "text/plain": [
       "0    국문학\n",
       "1     수학\n",
       "2    컴퓨터\n",
       "3     철학\n",
       "4    경영학\n",
       "Name: 학과, dtype: object"
      ]
     },
     "execution_count": 45,
     "metadata": {},
     "output_type": "execute_result"
    }
   ],
   "source": [
    "# 마찬가지로 다른 컬럼명을 주어 단순 인덱싱\n",
    "df['학과']"
   ]
  },
  {
   "cell_type": "markdown",
   "id": "fab00893-5810-4793-af5e-81288e2ee829",
   "metadata": {
    "jp-MarkdownHeadingCollapsed": true
   },
   "source": [
    "## 6-1. fancy indexing\n",
    "- 여러 개의 컬럼을 선택하여 원하는 컬럼으로만 데이터프레임, 또는 series를 구성할 때 사용할 수 있다는 것을 실습 이론 시간에서 배웠다"
   ]
  },
  {
   "cell_type": "code",
   "execution_count": 46,
   "id": "043984d0-759c-412d-9887-e1d2d28255f7",
   "metadata": {},
   "outputs": [
    {
     "data": {
      "text/html": [
       "<div>\n",
       "<style scoped>\n",
       "    .dataframe tbody tr th:only-of-type {\n",
       "        vertical-align: middle;\n",
       "    }\n",
       "\n",
       "    .dataframe tbody tr th {\n",
       "        vertical-align: top;\n",
       "    }\n",
       "\n",
       "    .dataframe thead th {\n",
       "        text-align: right;\n",
       "    }\n",
       "</style>\n",
       "<table border=\"1\" class=\"dataframe\">\n",
       "  <thead>\n",
       "    <tr style=\"text-align: right;\">\n",
       "      <th></th>\n",
       "      <th>이름</th>\n",
       "      <th>학과</th>\n",
       "    </tr>\n",
       "  </thead>\n",
       "  <tbody>\n",
       "    <tr>\n",
       "      <th>0</th>\n",
       "      <td>아이유</td>\n",
       "      <td>국문학</td>\n",
       "    </tr>\n",
       "    <tr>\n",
       "      <th>1</th>\n",
       "      <td>김연아</td>\n",
       "      <td>수학</td>\n",
       "    </tr>\n",
       "    <tr>\n",
       "      <th>2</th>\n",
       "      <td>홍길동</td>\n",
       "      <td>컴퓨터</td>\n",
       "    </tr>\n",
       "    <tr>\n",
       "      <th>3</th>\n",
       "      <td>장범준</td>\n",
       "      <td>철학</td>\n",
       "    </tr>\n",
       "    <tr>\n",
       "      <th>4</th>\n",
       "      <td>강감찬</td>\n",
       "      <td>경영학</td>\n",
       "    </tr>\n",
       "  </tbody>\n",
       "</table>\n",
       "</div>"
      ],
      "text/plain": [
       "    이름   학과\n",
       "0  아이유  국문학\n",
       "1  김연아   수학\n",
       "2  홍길동  컴퓨터\n",
       "3  장범준   철학\n",
       "4  강감찬  경영학"
      ]
     },
     "execution_count": 46,
     "metadata": {},
     "output_type": "execute_result"
    }
   ],
   "source": [
    "# 인덱싱 시 리스트로 값을 주면 됨\n",
    "# 이름과 학과 컬럼에만 접근하고 싶다면? \n",
    "df[['이름', '학과']] # df[리스트]"
   ]
  },
  {
   "cell_type": "markdown",
   "id": "0419351d-a0d5-455c-b898-c8fd49d1ca84",
   "metadata": {},
   "source": [
    "- 리스트로 ,를 구분지어서 주고, 데이터 프레임에 대해서 인덱싱을 해준다. "
   ]
  },
  {
   "cell_type": "markdown",
   "id": "dbf002ed-54e1-4a6a-8472-a80c6a3ddcce",
   "metadata": {
    "jp-MarkdownHeadingCollapsed": true
   },
   "source": [
    "## 7-1. [응용] 슬라이싱 + 인덱싱\n",
    "- 둘을 같이 응용해서 활용해보자.\n",
    "- 슬라이싱은 행에 대한 데이터를 가져오는 것임을 기억"
   ]
  },
  {
   "cell_type": "code",
   "execution_count": 47,
   "id": "d58e7b18-5441-49bc-89d9-7289e0562d36",
   "metadata": {},
   "outputs": [
    {
     "data": {
      "text/html": [
       "<div>\n",
       "<style scoped>\n",
       "    .dataframe tbody tr th:only-of-type {\n",
       "        vertical-align: middle;\n",
       "    }\n",
       "\n",
       "    .dataframe tbody tr th {\n",
       "        vertical-align: top;\n",
       "    }\n",
       "\n",
       "    .dataframe thead th {\n",
       "        text-align: right;\n",
       "    }\n",
       "</style>\n",
       "<table border=\"1\" class=\"dataframe\">\n",
       "  <thead>\n",
       "    <tr style=\"text-align: right;\">\n",
       "      <th></th>\n",
       "      <th>학과</th>\n",
       "      <th>이름</th>\n",
       "    </tr>\n",
       "  </thead>\n",
       "  <tbody>\n",
       "    <tr>\n",
       "      <th>1</th>\n",
       "      <td>수학</td>\n",
       "      <td>김연아</td>\n",
       "    </tr>\n",
       "    <tr>\n",
       "      <th>2</th>\n",
       "      <td>컴퓨터</td>\n",
       "      <td>홍길동</td>\n",
       "    </tr>\n",
       "  </tbody>\n",
       "</table>\n",
       "</div>"
      ],
      "text/plain": [
       "    학과   이름\n",
       "1   수학  김연아\n",
       "2  컴퓨터  홍길동"
      ]
     },
     "execution_count": 47,
     "metadata": {},
     "output_type": "execute_result"
    }
   ],
   "source": [
    "df[1:3][['학과', '이름']]"
   ]
  },
  {
   "cell_type": "code",
   "execution_count": 48,
   "id": "b8d719d5-3ffc-4bb4-a920-c4d4b2e6dfe1",
   "metadata": {},
   "outputs": [
    {
     "data": {
      "text/html": [
       "<div>\n",
       "<style scoped>\n",
       "    .dataframe tbody tr th:only-of-type {\n",
       "        vertical-align: middle;\n",
       "    }\n",
       "\n",
       "    .dataframe tbody tr th {\n",
       "        vertical-align: top;\n",
       "    }\n",
       "\n",
       "    .dataframe thead th {\n",
       "        text-align: right;\n",
       "    }\n",
       "</style>\n",
       "<table border=\"1\" class=\"dataframe\">\n",
       "  <thead>\n",
       "    <tr style=\"text-align: right;\">\n",
       "      <th></th>\n",
       "      <th>학과</th>\n",
       "      <th>이름</th>\n",
       "    </tr>\n",
       "  </thead>\n",
       "  <tbody>\n",
       "    <tr>\n",
       "      <th>1</th>\n",
       "      <td>수학</td>\n",
       "      <td>김연아</td>\n",
       "    </tr>\n",
       "    <tr>\n",
       "      <th>2</th>\n",
       "      <td>컴퓨터</td>\n",
       "      <td>홍길동</td>\n",
       "    </tr>\n",
       "  </tbody>\n",
       "</table>\n",
       "</div>"
      ],
      "text/plain": [
       "    학과   이름\n",
       "1   수학  김연아\n",
       "2  컴퓨터  홍길동"
      ]
     },
     "execution_count": 48,
     "metadata": {},
     "output_type": "execute_result"
    }
   ],
   "source": [
    "df[['학과', '이름']][1:3] # 순서를 바꿔도 동일하게 결과가 나타난다. "
   ]
  },
  {
   "cell_type": "markdown",
   "id": "3c6856db-9110-491b-a0d8-e21bcfbda2c0",
   "metadata": {
    "jp-MarkdownHeadingCollapsed": true
   },
   "source": [
    "## 8-1. Boolean indexing\n",
    "- 어떤 조건식을 세워서 True와 False로 데이터를 구분하여 True인 행에 대해서만 데이터를 불러오는 것이 특징\n",
    "- 연산자를 이용하여 인덱싱 수행\n",
    "- e.g. ==, !=, >, etc"
   ]
  },
  {
   "cell_type": "code",
   "execution_count": 50,
   "id": "b4fa1735-f76c-4185-a41b-e5dc7b0ffc6d",
   "metadata": {},
   "outputs": [
    {
     "data": {
      "text/html": [
       "<div>\n",
       "<style scoped>\n",
       "    .dataframe tbody tr th:only-of-type {\n",
       "        vertical-align: middle;\n",
       "    }\n",
       "\n",
       "    .dataframe tbody tr th {\n",
       "        vertical-align: top;\n",
       "    }\n",
       "\n",
       "    .dataframe thead th {\n",
       "        text-align: right;\n",
       "    }\n",
       "</style>\n",
       "<table border=\"1\" class=\"dataframe\">\n",
       "  <thead>\n",
       "    <tr style=\"text-align: right;\">\n",
       "      <th></th>\n",
       "      <th>이름</th>\n",
       "      <th>학과</th>\n",
       "      <th>성적</th>\n",
       "    </tr>\n",
       "  </thead>\n",
       "  <tbody>\n",
       "    <tr>\n",
       "      <th>1</th>\n",
       "      <td>김연아</td>\n",
       "      <td>수학</td>\n",
       "      <td>1.0</td>\n",
       "    </tr>\n",
       "  </tbody>\n",
       "</table>\n",
       "</div>"
      ],
      "text/plain": [
       "    이름  학과   성적\n",
       "1  김연아  수학  1.0"
      ]
     },
     "execution_count": 50,
     "metadata": {},
     "output_type": "execute_result"
    }
   ],
   "source": [
    "# 수학과 소속인 학생의 데이터만 불러오자\n",
    "df[df['학과'] == '수학'] # 학과라는 컬럼에 대해서 행들이 '수학'이라는 값을 가지고 있는 행만 불러오기"
   ]
  },
  {
   "cell_type": "markdown",
   "id": "761d7d7f-1b0d-42f6-b954-37cdb7660140",
   "metadata": {},
   "source": [
    "이렇듯 `df[ 불리언 리스트 ]` 로 작동하는 원리다. <br>\n",
    "간단한 예시) \n",
    "\n",
    "| 이름 | 성적 |\n",
    "| --- | --- |\n",
    "| A | 100 |\n",
    "| B | 80 |\n",
    "| C | 70 |\n",
    "| D | 95 |\n",
    "| E | 90 |\n",
    "| F | 20 |\n",
    "| G | 50 |\n",
    "| H | 55 |\n",
    "| I | 94 |\n",
    "\n",
    "해당 데이터에서 90점 이상의 점수를 받은 학생들의 데이터만 불러오고 싶다면?\n",
    "`df['성적'] >= 90` 이라는 명령어 입력 --> 불리언 값(`True`/`False`) 출력\n",
    "```\n",
    "A   True\n",
    "B   False\n",
    "C   False\n",
    ".   \n",
    ".     \n",
    "H   False\n",
    "I   True\n",
    "```\n",
    "\n",
    "`df[df['성적'] >= 90]` 이라는 명령어는 `df[[True, False, False, ..., False, True]]` 이렇게 해석 가능 <br>\n",
    "`True`인 행에 관한 모든 정보에 접근"
   ]
  },
  {
   "cell_type": "code",
   "execution_count": 51,
   "id": "fd35266a-19e6-4e3d-9aa8-ef5826828980",
   "metadata": {},
   "outputs": [
    {
     "data": {
      "text/html": [
       "<div>\n",
       "<style scoped>\n",
       "    .dataframe tbody tr th:only-of-type {\n",
       "        vertical-align: middle;\n",
       "    }\n",
       "\n",
       "    .dataframe tbody tr th {\n",
       "        vertical-align: top;\n",
       "    }\n",
       "\n",
       "    .dataframe thead th {\n",
       "        text-align: right;\n",
       "    }\n",
       "</style>\n",
       "<table border=\"1\" class=\"dataframe\">\n",
       "  <thead>\n",
       "    <tr style=\"text-align: right;\">\n",
       "      <th></th>\n",
       "      <th>이름</th>\n",
       "      <th>학과</th>\n",
       "      <th>성적</th>\n",
       "    </tr>\n",
       "  </thead>\n",
       "  <tbody>\n",
       "    <tr>\n",
       "      <th>0</th>\n",
       "      <td>아이유</td>\n",
       "      <td>국문학</td>\n",
       "      <td>3.0</td>\n",
       "    </tr>\n",
       "    <tr>\n",
       "      <th>1</th>\n",
       "      <td>김연아</td>\n",
       "      <td>수학</td>\n",
       "      <td>1.0</td>\n",
       "    </tr>\n",
       "    <tr>\n",
       "      <th>2</th>\n",
       "      <td>홍길동</td>\n",
       "      <td>컴퓨터</td>\n",
       "      <td>3.5</td>\n",
       "    </tr>\n",
       "    <tr>\n",
       "      <th>4</th>\n",
       "      <td>강감찬</td>\n",
       "      <td>경영학</td>\n",
       "      <td>4.0</td>\n",
       "    </tr>\n",
       "  </tbody>\n",
       "</table>\n",
       "</div>"
      ],
      "text/plain": [
       "    이름   학과   성적\n",
       "0  아이유  국문학  3.0\n",
       "1  김연아   수학  1.0\n",
       "2  홍길동  컴퓨터  3.5\n",
       "4  강감찬  경영학  4.0"
      ]
     },
     "execution_count": 51,
     "metadata": {},
     "output_type": "execute_result"
    }
   ],
   "source": [
    "# 성적이 0.5로 나누어 떨어지는 행에 접근\n",
    "df[df['성적'] % 0.5 == 0]"
   ]
  },
  {
   "cell_type": "code",
   "execution_count": 53,
   "id": "74f8fb78-deec-4b8c-ae80-7d9a311453d7",
   "metadata": {},
   "outputs": [
    {
     "data": {
      "text/plain": [
       "0     True\n",
       "1     True\n",
       "2     True\n",
       "3    False\n",
       "4     True\n",
       "Name: 성적, dtype: bool"
      ]
     },
     "execution_count": 53,
     "metadata": {},
     "output_type": "execute_result"
    }
   ],
   "source": [
    "df['성적'] % 0.5 == 0 # 세번째 행은 False라서 결과 위 데이터 행에서 사라진 것을 확인 가능!"
   ]
  },
  {
   "cell_type": "markdown",
   "id": "278163d5-9701-4750-9af1-3c557b8bbd84",
   "metadata": {},
   "source": [
    "## 9-1. pandas 고급 인덱싱 `loc` & `iloc` 인덱서\n",
    "- 우리는 슬라이싱으로 데이터 프레임에 대해서 '행'에 관한 정보를 접근할 수 있었다.\n",
    "- 하지만 인덱싱으로는 접근할 수 없었음..\n",
    "- 그렇지만 loc나 iloc 인덱서를 사용한다면, 그냥 단순하게 인덱스에 대한 정보를 준다면 아래와 같이 series로 떨어지는 것을 확인 가능"
   ]
  },
  {
   "cell_type": "markdown",
   "id": "cd78accd-4bfa-48d4-9df7-f2f6308a15b6",
   "metadata": {},
   "source": [
    "### 9-1-1. 한 개의 행에 대해서만 loc indexing"
   ]
  },
  {
   "cell_type": "code",
   "execution_count": 57,
   "id": "fb4322d0-0da0-44e8-a647-0a82d2a53018",
   "metadata": {},
   "outputs": [
    {
     "data": {
      "text/plain": [
       "이름    장범준\n",
       "학과     철학\n",
       "성적    2.7\n",
       "Name: 3, dtype: object"
      ]
     },
     "execution_count": 57,
     "metadata": {},
     "output_type": "execute_result"
    }
   ],
   "source": [
    "df.loc[3]"
   ]
  },
  {
   "cell_type": "code",
   "execution_count": 59,
   "id": "3c143123-f0d5-4ad9-b3e7-4c89e339043b",
   "metadata": {},
   "outputs": [
    {
     "data": {
      "text/plain": [
       "pandas.core.series.Series"
      ]
     },
     "execution_count": 59,
     "metadata": {},
     "output_type": "execute_result"
    }
   ],
   "source": [
    "# SERIES에 대한 데이터 타입 확인\n",
    "# df.loc[3]에 대한 데이터 타입은?\n",
    "type(df.loc[3]) # pandas.core.series.Series"
   ]
  },
  {
   "cell_type": "code",
   "execution_count": 56,
   "id": "aaf8d7f0-aadd-42a8-a109-6a35a772ff97",
   "metadata": {},
   "outputs": [
    {
     "data": {
      "text/html": [
       "<div>\n",
       "<style scoped>\n",
       "    .dataframe tbody tr th:only-of-type {\n",
       "        vertical-align: middle;\n",
       "    }\n",
       "\n",
       "    .dataframe tbody tr th {\n",
       "        vertical-align: top;\n",
       "    }\n",
       "\n",
       "    .dataframe thead th {\n",
       "        text-align: right;\n",
       "    }\n",
       "</style>\n",
       "<table border=\"1\" class=\"dataframe\">\n",
       "  <thead>\n",
       "    <tr style=\"text-align: right;\">\n",
       "      <th></th>\n",
       "      <th>이름</th>\n",
       "      <th>학과</th>\n",
       "      <th>성적</th>\n",
       "    </tr>\n",
       "  </thead>\n",
       "  <tbody>\n",
       "    <tr>\n",
       "      <th>0</th>\n",
       "      <td>아이유</td>\n",
       "      <td>국문학</td>\n",
       "      <td>3.0</td>\n",
       "    </tr>\n",
       "    <tr>\n",
       "      <th>1</th>\n",
       "      <td>김연아</td>\n",
       "      <td>수학</td>\n",
       "      <td>1.0</td>\n",
       "    </tr>\n",
       "    <tr>\n",
       "      <th>2</th>\n",
       "      <td>홍길동</td>\n",
       "      <td>컴퓨터</td>\n",
       "      <td>3.5</td>\n",
       "    </tr>\n",
       "    <tr>\n",
       "      <th>3</th>\n",
       "      <td>장범준</td>\n",
       "      <td>철학</td>\n",
       "      <td>2.7</td>\n",
       "    </tr>\n",
       "    <tr>\n",
       "      <th>4</th>\n",
       "      <td>강감찬</td>\n",
       "      <td>경영학</td>\n",
       "      <td>4.0</td>\n",
       "    </tr>\n",
       "  </tbody>\n",
       "</table>\n",
       "</div>"
      ],
      "text/plain": [
       "    이름   학과   성적\n",
       "0  아이유  국문학  3.0\n",
       "1  김연아   수학  1.0\n",
       "2  홍길동  컴퓨터  3.5\n",
       "3  장범준   철학  2.7\n",
       "4  강감찬  경영학  4.0"
      ]
     },
     "execution_count": 56,
     "metadata": {},
     "output_type": "execute_result"
    }
   ],
   "source": [
    "df"
   ]
  },
  {
   "cell_type": "markdown",
   "id": "2a9dfa14-df56-448b-8f6f-3300f7e21bb9",
   "metadata": {},
   "source": [
    "- 실제로도 데이터 프레임을 보게 되면, 인덱스 값이 3인, 장범준 학생에 대한 정보가 모조리 출력됨을 확인!"
   ]
  },
  {
   "cell_type": "markdown",
   "id": "46f167a4-7d37-4ca0-b7b2-cfbf55c146a0",
   "metadata": {},
   "source": [
    "### 9-1-2. 여러 개의 행을 fancy indexing을 통해 불러오기"
   ]
  },
  {
   "cell_type": "code",
   "execution_count": 60,
   "id": "10a76975-8404-4113-bfac-fa812fa717ce",
   "metadata": {},
   "outputs": [
    {
     "data": {
      "text/html": [
       "<div>\n",
       "<style scoped>\n",
       "    .dataframe tbody tr th:only-of-type {\n",
       "        vertical-align: middle;\n",
       "    }\n",
       "\n",
       "    .dataframe tbody tr th {\n",
       "        vertical-align: top;\n",
       "    }\n",
       "\n",
       "    .dataframe thead th {\n",
       "        text-align: right;\n",
       "    }\n",
       "</style>\n",
       "<table border=\"1\" class=\"dataframe\">\n",
       "  <thead>\n",
       "    <tr style=\"text-align: right;\">\n",
       "      <th></th>\n",
       "      <th>이름</th>\n",
       "      <th>학과</th>\n",
       "      <th>성적</th>\n",
       "    </tr>\n",
       "  </thead>\n",
       "  <tbody>\n",
       "    <tr>\n",
       "      <th>1</th>\n",
       "      <td>김연아</td>\n",
       "      <td>수학</td>\n",
       "      <td>1.0</td>\n",
       "    </tr>\n",
       "    <tr>\n",
       "      <th>3</th>\n",
       "      <td>장범준</td>\n",
       "      <td>철학</td>\n",
       "      <td>2.7</td>\n",
       "    </tr>\n",
       "    <tr>\n",
       "      <th>4</th>\n",
       "      <td>강감찬</td>\n",
       "      <td>경영학</td>\n",
       "      <td>4.0</td>\n",
       "    </tr>\n",
       "  </tbody>\n",
       "</table>\n",
       "</div>"
      ],
      "text/plain": [
       "    이름   학과   성적\n",
       "1  김연아   수학  1.0\n",
       "3  장범준   철학  2.7\n",
       "4  강감찬  경영학  4.0"
      ]
     },
     "execution_count": 60,
     "metadata": {},
     "output_type": "execute_result"
    }
   ],
   "source": [
    "# 행에 대해서 fancy indexing\n",
    "df.loc[[1, 3, 4]] # loc 인덱서에 리스트로 값을 부여"
   ]
  },
  {
   "cell_type": "markdown",
   "id": "089a7efc-09d0-4896-b9e9-0660ab941a3b",
   "metadata": {},
   "source": [
    "- 인덱스의 값을 리스트로 주어서, 부여해봤더니 인덱스 값이 1, 3, 4 값을 가진 학생 정보 불러올 수 있었다.\n",
    "- 슬라이싱으로 가져오려고 했다면, 2번 인덱스 홍길동 학생 정보를 가져와야 했을 것이다.."
   ]
  },
  {
   "cell_type": "code",
   "execution_count": 61,
   "id": "1db9c45d-c4a3-45f9-b340-67272397fc7c",
   "metadata": {},
   "outputs": [
    {
     "data": {
      "text/html": [
       "<div>\n",
       "<style scoped>\n",
       "    .dataframe tbody tr th:only-of-type {\n",
       "        vertical-align: middle;\n",
       "    }\n",
       "\n",
       "    .dataframe tbody tr th {\n",
       "        vertical-align: top;\n",
       "    }\n",
       "\n",
       "    .dataframe thead th {\n",
       "        text-align: right;\n",
       "    }\n",
       "</style>\n",
       "<table border=\"1\" class=\"dataframe\">\n",
       "  <thead>\n",
       "    <tr style=\"text-align: right;\">\n",
       "      <th></th>\n",
       "      <th>이름</th>\n",
       "      <th>학과</th>\n",
       "      <th>성적</th>\n",
       "    </tr>\n",
       "  </thead>\n",
       "  <tbody>\n",
       "    <tr>\n",
       "      <th>1</th>\n",
       "      <td>김연아</td>\n",
       "      <td>수학</td>\n",
       "      <td>1.0</td>\n",
       "    </tr>\n",
       "    <tr>\n",
       "      <th>3</th>\n",
       "      <td>장범준</td>\n",
       "      <td>철학</td>\n",
       "      <td>2.7</td>\n",
       "    </tr>\n",
       "    <tr>\n",
       "      <th>4</th>\n",
       "      <td>강감찬</td>\n",
       "      <td>경영학</td>\n",
       "      <td>4.0</td>\n",
       "    </tr>\n",
       "  </tbody>\n",
       "</table>\n",
       "</div>"
      ],
      "text/plain": [
       "    이름   학과   성적\n",
       "1  김연아   수학  1.0\n",
       "3  장범준   철학  2.7\n",
       "4  강감찬  경영학  4.0"
      ]
     },
     "execution_count": 61,
     "metadata": {},
     "output_type": "execute_result"
    }
   ],
   "source": [
    "# , 로 구분한다면 열에 대한 정보도 가져올 수 있다. \n",
    "# 행에 대해서 fancy indexing과 칼럼 슬라이싱\n",
    "df.loc[[1, 3, 4], :]"
   ]
  },
  {
   "cell_type": "markdown",
   "id": "1c79e0ca-eb60-4b57-962a-ea1ed5ba9946",
   "metadata": {},
   "source": [
    "- fancy indexing으로 행에 대한 정보를 입력해주고,\n",
    "- 열은 모든 열에 대해서 가져오겠다.\n",
    "- 동일한 결과가 도출된다. "
   ]
  },
  {
   "cell_type": "code",
   "execution_count": 62,
   "id": "f8a59e12-dc92-4a2a-a836-27861c216e4f",
   "metadata": {},
   "outputs": [
    {
     "data": {
      "text/html": [
       "<div>\n",
       "<style scoped>\n",
       "    .dataframe tbody tr th:only-of-type {\n",
       "        vertical-align: middle;\n",
       "    }\n",
       "\n",
       "    .dataframe tbody tr th {\n",
       "        vertical-align: top;\n",
       "    }\n",
       "\n",
       "    .dataframe thead th {\n",
       "        text-align: right;\n",
       "    }\n",
       "</style>\n",
       "<table border=\"1\" class=\"dataframe\">\n",
       "  <thead>\n",
       "    <tr style=\"text-align: right;\">\n",
       "      <th></th>\n",
       "      <th>이름</th>\n",
       "      <th>학과</th>\n",
       "      <th>성적</th>\n",
       "    </tr>\n",
       "  </thead>\n",
       "  <tbody>\n",
       "    <tr>\n",
       "      <th>1</th>\n",
       "      <td>김연아</td>\n",
       "      <td>수학</td>\n",
       "      <td>1.0</td>\n",
       "    </tr>\n",
       "    <tr>\n",
       "      <th>3</th>\n",
       "      <td>장범준</td>\n",
       "      <td>철학</td>\n",
       "      <td>2.7</td>\n",
       "    </tr>\n",
       "    <tr>\n",
       "      <th>4</th>\n",
       "      <td>강감찬</td>\n",
       "      <td>경영학</td>\n",
       "      <td>4.0</td>\n",
       "    </tr>\n",
       "  </tbody>\n",
       "</table>\n",
       "</div>"
      ],
      "text/plain": [
       "    이름   학과   성적\n",
       "1  김연아   수학  1.0\n",
       "3  장범준   철학  2.7\n",
       "4  강감찬  경영학  4.0"
      ]
     },
     "execution_count": 62,
     "metadata": {},
     "output_type": "execute_result"
    }
   ],
   "source": [
    "# 행에 대해서 fancy indexing과 원하는 컬럼 슬라이싱\n",
    "df.loc[[1, 3, 4], '이름':'성적']"
   ]
  },
  {
   "cell_type": "markdown",
   "id": "66be8dc6-c86e-4266-b45f-3369134f50c6",
   "metadata": {},
   "source": [
    "- 컬럼의 경우에는 loc를 주었기 때문에, 컬럼명(문자열)으로 주어야 한다"
   ]
  },
  {
   "cell_type": "code",
   "execution_count": 63,
   "id": "86455a0c-04f4-4094-bbb9-69abb3e355a2",
   "metadata": {},
   "outputs": [
    {
     "data": {
      "text/html": [
       "<div>\n",
       "<style scoped>\n",
       "    .dataframe tbody tr th:only-of-type {\n",
       "        vertical-align: middle;\n",
       "    }\n",
       "\n",
       "    .dataframe tbody tr th {\n",
       "        vertical-align: top;\n",
       "    }\n",
       "\n",
       "    .dataframe thead th {\n",
       "        text-align: right;\n",
       "    }\n",
       "</style>\n",
       "<table border=\"1\" class=\"dataframe\">\n",
       "  <thead>\n",
       "    <tr style=\"text-align: right;\">\n",
       "      <th></th>\n",
       "      <th>이름</th>\n",
       "      <th>성적</th>\n",
       "    </tr>\n",
       "  </thead>\n",
       "  <tbody>\n",
       "    <tr>\n",
       "      <th>1</th>\n",
       "      <td>김연아</td>\n",
       "      <td>1.0</td>\n",
       "    </tr>\n",
       "    <tr>\n",
       "      <th>3</th>\n",
       "      <td>장범준</td>\n",
       "      <td>2.7</td>\n",
       "    </tr>\n",
       "    <tr>\n",
       "      <th>4</th>\n",
       "      <td>강감찬</td>\n",
       "      <td>4.0</td>\n",
       "    </tr>\n",
       "  </tbody>\n",
       "</table>\n",
       "</div>"
      ],
      "text/plain": [
       "    이름   성적\n",
       "1  김연아  1.0\n",
       "3  장범준  2.7\n",
       "4  강감찬  4.0"
      ]
     },
     "execution_count": 63,
     "metadata": {},
     "output_type": "execute_result"
    }
   ],
   "source": [
    "# 행과 열에 대해서 모두 fancy indexing \n",
    "df.loc[[1, 3, 4], ['이름', '성적']]"
   ]
  },
  {
   "cell_type": "markdown",
   "id": "8c29e27d-b3df-45a7-99ab-49ae23136a86",
   "metadata": {},
   "source": [
    "### 9-1-3. 만약 loc 대신, iloc 인덱서를 사용한다면?"
   ]
  },
  {
   "cell_type": "code",
   "execution_count": 64,
   "id": "2c396266-6096-4fa6-a3f0-493ad2123769",
   "metadata": {},
   "outputs": [
    {
     "data": {
      "text/html": [
       "<div>\n",
       "<style scoped>\n",
       "    .dataframe tbody tr th:only-of-type {\n",
       "        vertical-align: middle;\n",
       "    }\n",
       "\n",
       "    .dataframe tbody tr th {\n",
       "        vertical-align: top;\n",
       "    }\n",
       "\n",
       "    .dataframe thead th {\n",
       "        text-align: right;\n",
       "    }\n",
       "</style>\n",
       "<table border=\"1\" class=\"dataframe\">\n",
       "  <thead>\n",
       "    <tr style=\"text-align: right;\">\n",
       "      <th></th>\n",
       "      <th>이름</th>\n",
       "      <th>학과</th>\n",
       "    </tr>\n",
       "  </thead>\n",
       "  <tbody>\n",
       "    <tr>\n",
       "      <th>1</th>\n",
       "      <td>김연아</td>\n",
       "      <td>수학</td>\n",
       "    </tr>\n",
       "    <tr>\n",
       "      <th>3</th>\n",
       "      <td>장범준</td>\n",
       "      <td>철학</td>\n",
       "    </tr>\n",
       "    <tr>\n",
       "      <th>4</th>\n",
       "      <td>강감찬</td>\n",
       "      <td>경영학</td>\n",
       "    </tr>\n",
       "  </tbody>\n",
       "</table>\n",
       "</div>"
      ],
      "text/plain": [
       "    이름   학과\n",
       "1  김연아   수학\n",
       "3  장범준   철학\n",
       "4  강감찬  경영학"
      ]
     },
     "execution_count": 64,
     "metadata": {},
     "output_type": "execute_result"
    }
   ],
   "source": [
    "df.iloc[[1, 3, 4], 0:2] # loc는 컬럼 명을 명시 --> iloc는 컬럼의 순서를 명시"
   ]
  },
  {
   "cell_type": "markdown",
   "id": "e8d8b23f-8b06-4f23-84a8-594264d824d3",
   "metadata": {},
   "source": [
    "### 9-1-4. loc + boolean indexing\n",
    "- 이렇게 활용하면 좀 더 원하는 데이터를 가져올 수 있다. "
   ]
  },
  {
   "cell_type": "code",
   "execution_count": 65,
   "id": "117df4cb-4ce8-46fc-abae-20b92e86a29a",
   "metadata": {},
   "outputs": [
    {
     "data": {
      "text/html": [
       "<div>\n",
       "<style scoped>\n",
       "    .dataframe tbody tr th:only-of-type {\n",
       "        vertical-align: middle;\n",
       "    }\n",
       "\n",
       "    .dataframe tbody tr th {\n",
       "        vertical-align: top;\n",
       "    }\n",
       "\n",
       "    .dataframe thead th {\n",
       "        text-align: right;\n",
       "    }\n",
       "</style>\n",
       "<table border=\"1\" class=\"dataframe\">\n",
       "  <thead>\n",
       "    <tr style=\"text-align: right;\">\n",
       "      <th></th>\n",
       "      <th>이름</th>\n",
       "      <th>학과</th>\n",
       "      <th>성적</th>\n",
       "    </tr>\n",
       "  </thead>\n",
       "  <tbody>\n",
       "    <tr>\n",
       "      <th>0</th>\n",
       "      <td>아이유</td>\n",
       "      <td>국문학</td>\n",
       "      <td>3.0</td>\n",
       "    </tr>\n",
       "    <tr>\n",
       "      <th>1</th>\n",
       "      <td>김연아</td>\n",
       "      <td>수학</td>\n",
       "      <td>1.0</td>\n",
       "    </tr>\n",
       "    <tr>\n",
       "      <th>2</th>\n",
       "      <td>홍길동</td>\n",
       "      <td>컴퓨터</td>\n",
       "      <td>3.5</td>\n",
       "    </tr>\n",
       "    <tr>\n",
       "      <th>3</th>\n",
       "      <td>장범준</td>\n",
       "      <td>철학</td>\n",
       "      <td>2.7</td>\n",
       "    </tr>\n",
       "  </tbody>\n",
       "</table>\n",
       "</div>"
      ],
      "text/plain": [
       "    이름   학과   성적\n",
       "0  아이유  국문학  3.0\n",
       "1  김연아   수학  1.0\n",
       "2  홍길동  컴퓨터  3.5\n",
       "3  장범준   철학  2.7"
      ]
     },
     "execution_count": 65,
     "metadata": {},
     "output_type": "execute_result"
    }
   ],
   "source": [
    "# 성적이 2로 나누어지지 않는 행에 대해서 접근 ---> 그 행에 대해서 이름, 학과, 성적 컬럼만!\n",
    "df.loc[df['성적'] % 2 != 0, ['이름', '학과', '성적']]"
   ]
  }
 ],
 "metadata": {
  "kernelspec": {
   "display_name": "dx_env",
   "language": "python",
   "name": "dx_env"
  },
  "language_info": {
   "codemirror_mode": {
    "name": "ipython",
    "version": 3
   },
   "file_extension": ".py",
   "mimetype": "text/x-python",
   "name": "python",
   "nbconvert_exporter": "python",
   "pygments_lexer": "ipython3",
   "version": "3.11.9"
  },
  "widgets": {
   "application/vnd.jupyter.widget-state+json": {
    "state": {},
    "version_major": 2,
    "version_minor": 0
   }
  }
 },
 "nbformat": 4,
 "nbformat_minor": 5
}
