{
 "cells": [
  {
   "cell_type": "markdown",
   "id": "da17562e-2dce-40ec-a3f2-e04c82351db2",
   "metadata": {},
   "source": [
    "# 가설 검정"
   ]
  },
  {
   "cell_type": "markdown",
   "id": "ca1118c9-ac4b-4f6f-a65d-9522cc8e3868",
   "metadata": {},
   "source": [
    "## `두 집단 평균 비교 -- 독립 표본 t-test(independent sample t-test)`\n",
    "- 목적: 독립된 두 표본집단의 평균 차이에 대한 가설 검정\n",
    "- 예제: K 모바일 대리점 내부 인테리어 종류에 따라 고객 선호도에 대한 차이가 통계적으로 유의미한지 확인해본다.\n",
    "    - (note: 마케팅 분야에서 A/B테스트 시 두 집단의 평균에 차이가 있는지 검정할 때 주로 사용된다.)\n",
    "\n",
    "- 귀무가설(Ho): 내부 인테리어 종류에 따라 고객 선호도에 차이가 없다.\n",
    "- 대립가설(H1): 내부 인테리어 종류에 따라 고객 선호도에 차이가 있다. "
   ]
  },
  {
   "cell_type": "markdown",
   "id": "9b2f3d6a-1626-477a-b6f3-014e383db5a4",
   "metadata": {
    "jp-MarkdownHeadingCollapsed": true
   },
   "source": [
    "## 0. 라이브러리 및 데이터 로딩"
   ]
  },
  {
   "cell_type": "code",
   "execution_count": 1,
   "id": "6ae85e42-10ce-4b2d-a25d-d44b98a48e4a",
   "metadata": {},
   "outputs": [],
   "source": [
    "# 필요 라이브러리 로딩\n",
    "import numpy as np\n",
    "import pandas as pd\n",
    "\n",
    "from scipy import stats # scipy: 수학, 과학, 공학에 특화된 라이브러리\n",
    "\n",
    "import matplotlib.pyplot as plt\n",
    "import seaborn as sns"
   ]
  },
  {
   "cell_type": "code",
   "execution_count": 2,
   "id": "d99887a0-dd38-4a74-8221-047c59153de1",
   "metadata": {},
   "outputs": [],
   "source": [
    "import pandas as pd\n",
    "import numpy as np\n",
    "import seaborn as sns\n",
    "import matplotlib.pyplot as plt\n",
    "from scipy.stats import normaltest, levene\n",
    "\n",
    "# 설정\n",
    "np.random.seed(42)\n",
    "\n",
    "# 데이터 생성\n",
    "def generate_data(mean, std, size):\n",
    "    return np.random.normal(loc=mean, scale=std, size=size)\n",
    "\n",
    "# Classic 그룹: 중앙값 46, IQR [26, 68]\n",
    "classic_mean = 46\n",
    "classic_std = (68 - 26) / 2  # 대략적인 표준편차\n",
    "\n",
    "# Modern 그룹: 중앙값 60, IQR [41, 73]\n",
    "modern_mean = 60\n",
    "modern_std = (73 - 41) / 2  # 대략적인 표준편차\n",
    "\n",
    "# 데이터프레임 생성\n",
    "n_per_group = 15\n",
    "classic_data = generate_data(classic_mean, classic_std, n_per_group)\n",
    "modern_data = generate_data(modern_mean, modern_std, n_per_group)\n",
    "\n",
    "# 데이터프레임\n",
    "df = pd.DataFrame({\n",
    "    'preference': np.concatenate([classic_data, modern_data]),\n",
    "    'interior': ['classic'] * n_per_group + ['modern'] * n_per_group\n",
    "})"
   ]
  },
  {
   "cell_type": "markdown",
   "id": "bf7c17ed-c6de-4ab9-bf16-86904e5c9075",
   "metadata": {},
   "source": [
    "### 0-1. boxplot"
   ]
  },
  {
   "cell_type": "code",
   "execution_count": 3,
   "id": "a0eee8b1-c601-4843-9136-928bcdd033b3",
   "metadata": {},
   "outputs": [
    {
     "data": {
      "text/plain": [
       "Text(0.5, 1.0, 'Box Plot of Preference of Interior')"
      ]
     },
     "execution_count": 3,
     "metadata": {},
     "output_type": "execute_result"
    },
    {
     "data": {
      "image/png": "[encoded data removed]",
      "text/plain": [
       "<Figure size 640x480 with 1 Axes>"
      ]
     },
     "metadata": {},
     "output_type": "display_data"
    }
   ],
   "source": [
    "# sns.boxplot(x=df['interior'], y=df['preference'])\n",
    "# plt.title('Box Plot of Preference of interior')\n",
    "# plt.show()\n",
    "p = sns.boxplot(x=df['interior'], y=df['preference'])\n",
    "p.set_title('Box Plot of Preference of Interior')"
   ]
  },
  {
   "cell_type": "markdown",
   "id": "5d0f76ef-a419-4941-b2a7-3c5b43fc0538",
   "metadata": {
    "jp-MarkdownHeadingCollapsed": true
   },
   "source": [
    "## Assumption 1: 독립성\n",
    "> 독립변수 그룹은 서로 독립적\n",
    "- 두 개의 집단을 구성하는 구성원이나 구성들이 서로 관계가 없음을 의미. 즉, 아무런 관계가 없어야 함\n",
    "- 이미 두 개의 독립된 집단이기에 따로 검정은 필요 없다. "
   ]
  },
  {
   "cell_type": "markdown",
   "id": "c743fc26-a55a-4cd5-8601-c9542683f858",
   "metadata": {
    "jp-MarkdownHeadingCollapsed": true
   },
   "source": [
    "## Assumption 2: 정규성 확인\n",
    "> Shapiro-Wilk 검정을 통해 정규성을 확인합니다. (귀무가설과 대립가설은 다음과 같음)\n",
    "- Ho: 각 독립 표본이 정규성을 만족한다.\n",
    "- H1: 각 독립 표본이 정규성을 만족하지 않는다. "
   ]
  },
  {
   "cell_type": "markdown",
   "id": "f4e3caf9-10eb-4d23-b964-233bd3681339",
   "metadata": {},
   "source": [
    "- 검정통계량에 대한 유의확률과 유의수준을 통해 분석을 했을 때, 귀무가설을 기각하게 된다면 정규성을 만족하지 않는 것이고,\n",
    "- 귀무가설을 기각하지 않는다면 정규성을 만족한다고 볼 수 있다. "
   ]
  },
  {
   "cell_type": "code",
   "execution_count": 4,
   "id": "55a9ad28-6613-41a8-b4d2-ab86fc0ba93e",
   "metadata": {},
   "outputs": [
    {
     "data": {
      "text/plain": [
       "interior\n",
       "modern    15\n",
       "Name: count, dtype: int64"
      ]
     },
     "execution_count": 4,
     "metadata": {},
     "output_type": "execute_result"
    }
   ],
   "source": [
    "df[df['interior'] == 'classic'].head()\n",
    "df.loc[df['interior'] == 'modern', 'interior'].value_counts()"
   ]
  },
  {
   "cell_type": "code",
   "execution_count": 5,
   "id": "61f2d39c-17fa-42f7-858d-e76033908864",
   "metadata": {},
   "outputs": [
    {
     "name": "stdout",
     "output_type": "stream",
     "text": [
      "15    51.003400\n",
      "16    43.794702\n",
      "17    65.027957\n",
      "18    45.471615\n",
      "19    37.403141\n",
      "20    83.450380\n",
      "21    56.387579\n",
      "22    61.080451\n",
      "23    37.204029\n",
      "24    51.289876\n",
      "25    61.774761\n",
      "26    41.584103\n",
      "27    66.011168\n",
      "28    50.389781\n",
      "29    55.332900\n",
      "Name: preference, dtype: float64\n"
     ]
    }
   ],
   "source": [
    "# 각 그룹의 선호도 \n",
    "classic_pref = df.loc[df['interior'] == 'classic', 'preference']\n",
    "# classic_pref\n",
    "modern_pref = df.loc[df['interior'] == 'modern', 'preference']\n",
    "print(modern_pref)"
   ]
  },
  {
   "cell_type": "code",
   "execution_count": 6,
   "id": "2cfb2ddd-c009-4203-bde6-25233a74515c",
   "metadata": {},
   "outputs": [
    {
     "data": {
      "text/plain": [
       "15"
      ]
     },
     "execution_count": 6,
     "metadata": {},
     "output_type": "execute_result"
    }
   ],
   "source": [
    "modern_pref.size # 몇 개의 데이터가 있는가?"
   ]
  },
  {
   "cell_type": "code",
   "execution_count": 7,
   "id": "acc7d7f3-153a-4939-a3f8-2d2382746ec0",
   "metadata": {},
   "outputs": [
    {
     "name": "stdout",
     "output_type": "stream",
     "text": [
      "classic 인테리어 선호도 정규성 shapiro test :  ShapiroResult(statistic=0.9428404514723788, pvalue=0.41943322393776156)\n",
      "modern 인테리어 선호도 정규성 shapiro test :  ShapiroResult(statistic=0.9474447844818342, pvalue=0.4851442128002757)\n"
     ]
    }
   ],
   "source": [
    "# 정규성을 충족하는지 확인\n",
    "print('classic 인테리어 선호도 정규성 shapiro test : ', stats.shapiro(classic_pref))\n",
    "print('modern 인테리어 선호도 정규성 shapiro test : ', stats.shapiro(modern_pref))"
   ]
  },
  {
   "cell_type": "markdown",
   "id": "0068c599-2cc9-49f0-a2e3-f28dc205461b",
   "metadata": {},
   "source": [
    "- 정규성 검정 결과, 두 집단 모두 정규성 가정을 만족\n",
    "- statistic은 검정통계량을 의미하고, p-value는 유의확률을 의미한다. (pvalue가 0.5보다 크므로 귀무가설 채택)"
   ]
  },
  {
   "cell_type": "markdown",
   "id": "6e20a25e-9739-4b4d-aa3e-9deadef691f2",
   "metadata": {
    "jp-MarkdownHeadingCollapsed": true
   },
   "source": [
    "## Assumption 3: 등분산성 확인(두 집단이 동일한 분산을 가지는가?)\n",
    "> F 검정으로 확인\n",
    "- Ho: 두 독립 표본의 분산은 동일하다.\n",
    "- H1: 두 독립 표본의 분산은 동일하지 않다."
   ]
  },
  {
   "cell_type": "code",
   "execution_count": 8,
   "id": "9560f0b1-6721-49bf-aafd-0330d85d73e7",
   "metadata": {},
   "outputs": [
    {
     "name": "stdout",
     "output_type": "stream",
     "text": [
      "F statistic : 2.8137\n",
      "p value : 0.031\n"
     ]
    }
   ],
   "source": [
    "# numpy의 variance는 population variance를 구함. sample variance를 구하라\n",
    "f = np.var(classic_pref, ddof=1) / np.var(modern_pref, ddof=1) \n",
    "classic_size = classic_pref.size - 1\n",
    "modern_size = modern_pref.size - 1\n",
    "\n",
    "p_value = 1 - stats.f.cdf(f, classic_size, modern_size)\n",
    "\n",
    "print('F statistic : {}'.format(np.round(f, 4)))\n",
    "# print('p value : {}'.format(np.round(p_value, 4)))\n",
    "print('p value : {:.3f}'.format(p_value, 4))"
   ]
  },
  {
   "cell_type": "code",
   "execution_count": 9,
   "id": "7da94a9f-3d7a-4e53-aaa1-e3c7e2aba569",
   "metadata": {},
   "outputs": [],
   "source": [
    "def f_test(g1, g2):\n",
    "    f = np.var(g1, ddof=1) / np.var(g2, ddof=1) # f 통계검정량\n",
    "    num = g1.size - 1 # 분자\n",
    "    denom = g2.size - 1 # 분모\n",
    "\n",
    "    p_value = 1 - stats.f.cdf(f, num, denom) # f 검정통계량에 대한 p-value\n",
    "\n",
    "    return f, p_value"
   ]
  },
  {
   "cell_type": "code",
   "execution_count": 10,
   "id": "51b2a831-c5fb-4672-9a79-fb0eb61a32da",
   "metadata": {},
   "outputs": [
    {
     "name": "stdout",
     "output_type": "stream",
     "text": [
      "F 검정통계량 : 2.8137\n",
      "p value : 0.031\n"
     ]
    }
   ],
   "source": [
    "print('F 검정통계량 : {:.4f}'.format(f_test(classic_pref, modern_pref)[0]))\n",
    "print('p value : {:.3f}'.format(f_test(classic_pref, modern_pref)[1]))"
   ]
  },
  {
   "cell_type": "markdown",
   "id": "8ca964ed-58e4-4dc9-8657-bd2edd6f566c",
   "metadata": {},
   "source": [
    "## 1. 독립표본 t 검정"
   ]
  },
  {
   "cell_type": "code",
   "execution_count": 11,
   "id": "cb57f14e-bdf9-403a-9b08-4882fc81a604",
   "metadata": {},
   "outputs": [
    {
     "name": "stdout",
     "output_type": "stream",
     "text": [
      "46.217319011000065\n",
      "53.81372294343342\n"
     ]
    }
   ],
   "source": [
    "# 평균 확인\n",
    "print(np.mean(classic_pref))\n",
    "print(np.mean(modern_pref))"
   ]
  },
  {
   "cell_type": "code",
   "execution_count": 16,
   "id": "f79e3500-d32d-4cd4-86d4-99353a6ef130",
   "metadata": {},
   "outputs": [],
   "source": [
    "# stats.ttest_ind 독립표본 t검정 함수\n",
    "result = stats.ttest_ind(classic_pref, modern_pref, equal_var=False) \n",
    "# 동일분산을 갖는가? false equal_var=False"
   ]
  },
  {
   "cell_type": "code",
   "execution_count": 17,
   "id": "cfc4b5fe-ea3f-4523-9c96-47ab51115a0a",
   "metadata": {},
   "outputs": [
    {
     "data": {
      "text/plain": [
       "TtestResult(statistic=-1.210445831367359, pvalue=0.23848835105149702, df=22.83533221520818)"
      ]
     },
     "execution_count": 17,
     "metadata": {},
     "output_type": "execute_result"
    }
   ],
   "source": [
    "result"
   ]
  },
  {
   "cell_type": "code",
   "execution_count": 13,
   "id": "d9647382-e5e2-4901-aa86-729ecc55ad48",
   "metadata": {},
   "outputs": [
    {
     "name": "stdout",
     "output_type": "stream",
     "text": [
      "classic 인테리어 평균 선호도 : 46.217319011000065\n",
      "modern 인테리어 평균 선호도 : 53.8137\n",
      "독립표본 t 검정통계량 : -1.210\n",
      "p - value : 0.238\n"
     ]
    }
   ],
   "source": [
    "print('classic 인테리어 평균 선호도 : {}'.format(np.mean(classic_pref)))\n",
    "print('modern 인테리어 평균 선호도 : {}'.format(np.round(np.mean(modern_pref), 4)))\n",
    "print('독립표본 t 검정통계량 : {}'.format(result[0].astype(str)[:6]))\n",
    "print('p - value : {}'.format(result[1].astype(str)[:5]))"
   ]
  },
  {
   "cell_type": "code",
   "execution_count": null,
   "id": "b108a1eb-4d41-48a4-8c62-84ba477bad99",
   "metadata": {},
   "outputs": [],
   "source": []
  }
 ],
 "metadata": {
  "kernelspec": {
   "display_name": "dx_env",
   "language": "python",
   "name": "dx_env"
  },
  "language_info": {
   "codemirror_mode": {
    "name": "ipython",
    "version": 3
   },
   "file_extension": ".py",
   "mimetype": "text/x-python",
   "name": "python",
   "nbconvert_exporter": "python",
   "pygments_lexer": "ipython3",
   "version": "3.11.9"
  }
 },
 "nbformat": 4,
 "nbformat_minor": 5
}
