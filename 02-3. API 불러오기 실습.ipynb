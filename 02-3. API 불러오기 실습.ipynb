{
 "cells": [
  {
   "cell_type": "markdown",
   "id": "66419ffd-7727-44a3-afb4-1abaec58125a",
   "metadata": {},
   "source": [
    "# 실습: 전국 무인 교통 단속 카메라 표준 데이터 `JSON` 데이터 `pandas`로 호출하기\n",
    "- 데이터: 전국 무인 교통 단속 카메라 표준 데이터\n",
    "- 제공기관: 공공데이터 활용 지원센터"
   ]
  },
  {
   "cell_type": "code",
   "execution_count": 1,
   "id": "e1953cab-701c-447d-ab95-eddc3b9a7882",
   "metadata": {},
   "outputs": [],
   "source": [
    "# 필요 라이브러리 로딩\n",
    "import pandas as pd\n",
    "import json # json을 다루기 위한 라이브러리\n",
    "import requests # API 서버 쪽에 request 보낼 떄 사용하는 라이브러리"
   ]
  },
  {
   "cell_type": "markdown",
   "id": "9b4d977e-1ef0-4b1d-b936-2aa5be795b7b",
   "metadata": {},
   "source": [
    "## 1. Open API 호출 시 필요한 정보 입력"
   ]
  },
  {
   "cell_type": "code",
   "execution_count": 26,
   "id": "cf197dee-2732-4229-a31a-6452349fbf17",
   "metadata": {},
   "outputs": [
    {
     "name": "stdout",
     "output_type": "stream",
     "text": [
      "{\"response\":{\"header\":{\"resultCode\":\"00\",\"resultMsg\":\"NORMAL_SERVICE\",\"type\":\"json\"},\"body\":{\"items\":[{\"mnlssRegltCameraManageNo\":\"P-7739\",\"ctprvnNm\":\"경기도\",\"signguNm\":\"고양시\",\"roadKnd\":\"시도\",\"roadRouteNo\":\"\",\"roadRouteNm\":\"킨텍스로\",\"roadRouteDrc\":\"3\",\"rdnmadr\":\"\",\"lnmadr\":\"경기도 고양시 일산서구 대화동 2603\",\"latitude\":\"37.66585766\",\"longitude\":\"126.7510974\",\"itlpc\":\"일산서구 대화동 2603 (한화꿈에그린 106동앞)\",\"regltSe\":\"4\",\"lmtt\n"
     ]
    }
   ],
   "source": [
    "key = 'uioT%2FBViER2jFJYOplu6dlifMIcwqlVd6UPeyyugDejfla0%2FofPrk1fUGylGABlaq9ZzYWSFZrn1CQRtZhsb1g%3D%3D' # 발급받은 '일반 인증키' 복사 후 입력\n",
    "pageNo = 1 # 요청변수 란에서 확인 : 페이지 번호 입력\n",
    "row = 100 # 요청변수 란에서 확인 : 한 페이지 결과 수 입력\n",
    "# type은 json으로 고정할 것이기 때문에 변수로 잡지 않음\n",
    "\n",
    "'''\n",
    "full url 입력 : `주소` + `?servicekey={키(위 변수)}` \n",
    "                       + `&pageNo={페이지번호(위 변수)}` \n",
    "                       + `&numOfRows={한 페이지 출력 결과 수}` \n",
    "                       + `&type=json`\n",
    "\n",
    "'''\n",
    "# full url 입력: f' '로 표현 \n",
    "url = f'http://api.data.go.kr/openapi/tn_pubr_public_unmanned_traffic_camera_api?serviceKey={key}&pageNo={pageNo}&numOfRows={row}&type=json'\n",
    "\n",
    "response = requests.get(url) # full url을 requests 라이브러리를 통해 호출\n",
    "\n",
    "# 한글 출력 시, encoding이 필요한 response encoding = 'utf-8' # utf-8로 설정\n",
    "response.encoding = 'utf-8' # utf-8로 설정\n",
    "\n",
    "print(response.text[0:400]) # response 객체의 text 출력해보기"
   ]
  },
  {
   "cell_type": "markdown",
   "id": "be5947a5-205f-4d6d-9e23-5c804c551737",
   "metadata": {},
   "source": [
    "## 2. 결과 객체에 있는 데이터(json) 조회"
   ]
  },
  {
   "cell_type": "code",
   "execution_count": 12,
   "id": "b224744c-4bc7-493d-93a5-4758d2b96fc0",
   "metadata": {},
   "outputs": [
    {
     "data": {
      "text/plain": [
       "dict_keys(['response'])"
      ]
     },
     "execution_count": 12,
     "metadata": {},
     "output_type": "execute_result"
    }
   ],
   "source": [
    "resulting_dict = json.loads(response.text) # json을 dict 타입으로 바꾸는 loads 함수 \n",
    "# print(resulting_dict['header'])\n",
    "resulting_dict.keys() # dictionary 키 확인 --> 중첩 딕셔너리임"
   ]
  },
  {
   "cell_type": "code",
   "execution_count": 13,
   "id": "c86db576-accc-4514-a40f-abcc5a3d6dd3",
   "metadata": {},
   "outputs": [
    {
     "data": {
      "text/plain": [
       "dict_keys(['header', 'body'])"
      ]
     },
     "execution_count": 13,
     "metadata": {},
     "output_type": "execute_result"
    }
   ],
   "source": [
    "# 중첩 딕셔너리의 키 확인\n",
    "resulting_dict['response'].keys() "
   ]
  },
  {
   "cell_type": "code",
   "execution_count": 14,
   "id": "44e68f8d-67b9-4192-b8c2-c12ea8c68306",
   "metadata": {},
   "outputs": [
    {
     "data": {
      "text/plain": [
       "dict_keys(['items', 'totalCount', 'numOfRows', 'pageNo'])"
      ]
     },
     "execution_count": 14,
     "metadata": {},
     "output_type": "execute_result"
    }
   ],
   "source": [
    "resulting_dict['response']['body'].keys() # 우리는 그중에 item 안에 있는 정보에 관심이 있음"
   ]
  },
  {
   "cell_type": "code",
   "execution_count": 15,
   "id": "35ad5f50-f5de-4c0a-a90d-0b6fb5e8ca95",
   "metadata": {},
   "outputs": [],
   "source": [
    "# resulting_dict['response']['body']['item'] # 이렇게 하면 너무 길어서, 하나만 뽑아보자."
   ]
  },
  {
   "cell_type": "code",
   "execution_count": 17,
   "id": "07e0517d-9f80-4349-ad57-7a4ee3ba1792",
   "metadata": {},
   "outputs": [
    {
     "data": {
      "text/plain": [
       "{'mnlssRegltCameraManageNo': 'P-7739',\n",
       " 'ctprvnNm': '경기도',\n",
       " 'signguNm': '고양시',\n",
       " 'roadKnd': '시도',\n",
       " 'roadRouteNo': '',\n",
       " 'roadRouteNm': '킨텍스로',\n",
       " 'roadRouteDrc': '3',\n",
       " 'rdnmadr': '',\n",
       " 'lnmadr': '경기도 고양시 일산서구 대화동 2603',\n",
       " 'latitude': '37.66585766',\n",
       " 'longitude': '126.7510974',\n",
       " 'itlpc': '일산서구 대화동 2603 (한화꿈에그린 106동앞)',\n",
       " 'regltSe': '4',\n",
       " 'lmttVe': '0',\n",
       " 'regltSctnLcSe': '',\n",
       " 'ovrspdRegltSctnLt': '',\n",
       " 'prtcareaType': '',\n",
       " 'installationYear': '2019',\n",
       " 'institutionNm': '경기도 고양시',\n",
       " 'phoneNumber': '031-8075-2578',\n",
       " 'referenceDate': '2023-11-24',\n",
       " 'insttCode': '3940000'}"
      ]
     },
     "execution_count": 17,
     "metadata": {},
     "output_type": "execute_result"
    }
   ],
   "source": [
    "# 첫번째 아이템 호출\n",
    "resulting_dict['response']['body']['items'][0]"
   ]
  },
  {
   "cell_type": "markdown",
   "id": "4a77475b-8a48-4f85-be82-e76b12053915",
   "metadata": {},
   "source": [
    "## 3. 특정 정보만 사용해서 데이터프레임으로 변환"
   ]
  },
  {
   "cell_type": "code",
   "execution_count": 23,
   "id": "1115a8bd-e111-4c9c-9e30-6dcb2bd7f97a",
   "metadata": {},
   "outputs": [
    {
     "name": "stdout",
     "output_type": "stream",
     "text": [
      "['경기도 고양시 일산서구 대화동 2603', '경기도 고양시 일산서구 대화동 2603-2', '경기도 고양시 일산서구 대화동 1099-7', '경기도 고양시 일산서구 대화동 2734', '경기도 고양시 일산서구 대화동 2321', '경기도 고양시 일산서구 대화동 2321', '경기도 고양시 일산서구 대화동 2288-7', '경기도 고양시 일산서구 대화동 2307-15', '경기도 고양시 일산서구 가좌동 360-1', '경기도 고양시 일산서구 가좌동 391-1']\n",
      "['일산서구 대화동 2603 (한화꿈에그린 106동앞)', '일산서구 대화동 2603-2 (한화꿈에그린 102동앞)', '대화동 1099-7 현대모터스 스튜디오 건너편', '대화동 2734번지 한국지역난방공사 열공급시설 삼거리', '일산서구 중앙로 1600 일산서구청(신청사) 1(대화동2428 일산서구청 신청사 옆)', '일산서구 중앙로 1600 일산서구청(신청사) 2', '일산서구 대화동 2288-7 (문촌19단지 사거리) (5대)', '일산서구 대화동 2307-15 (대방디엠시티 102동 옆) (4대)', '가좌동 360-1송포초교 정문(가좌동 355-1 송포초등학교 정문앞)', '가좌동 391-1 송포초교 후문(가좌동 355-1 송포초등학교 후문앞)']\n",
      "['126.7510974', '126.7510974', '126.7479285', '126.7404425', '126.745242', '126.745242', '126.7509003', '126.7484978', '126.7220093', '126.7201958']\n"
     ]
    }
   ],
   "source": [
    "# 주소, 카메라 위치, 위도, 경도 정보만 출력\n",
    "\n",
    "# 각 관련 정보를 받을 리스트 생성\n",
    "address_list = [] # 주소 리스트 생성 \n",
    "location_list = [] # cctv 위치 리스트 생성\n",
    "latitude_list = [] # 위도 리스트 생성\n",
    "longitude_list = [] # 경도 리스트 생성\n",
    "\n",
    "# dictionary속 데이터 정보 입력\n",
    "# 정보를 뽑았던게, resultin_dict 안의 response 안의 body 안의 item(중점 리스트 명시)\n",
    "for tmp in resulting_dict['response']['body']['items']: # 첫번째 tmp는 위에 출력한 [0]번째 item\n",
    "    address_list.append(tmp['lnmadr'])\n",
    "    location_list.append(tmp['itlpc']) \n",
    "    latitude_list.append(tmp['latitude']) # [0]에서 얻은 key 값을 참조해서 접근할 수 있게 하기\n",
    "    longitude_list.append(tmp['longitude']) # append해서 각 리스트에 관련된 정보를 담기\n",
    "\n",
    "print(address_list[:10]) # 100개를 호출해서 100개가 있겠지만, 10개만 불러와본다. \n",
    "print(location_list[:10])\n",
    "print(longitude_list[:10])                   "
   ]
  },
  {
   "cell_type": "code",
   "execution_count": 24,
   "id": "3743da41-6319-4a45-b5c6-5d2e3dc41f3d",
   "metadata": {},
   "outputs": [
    {
     "data": {
      "text/html": [
       "<div>\n",
       "<style scoped>\n",
       "    .dataframe tbody tr th:only-of-type {\n",
       "        vertical-align: middle;\n",
       "    }\n",
       "\n",
       "    .dataframe tbody tr th {\n",
       "        vertical-align: top;\n",
       "    }\n",
       "\n",
       "    .dataframe thead th {\n",
       "        text-align: right;\n",
       "    }\n",
       "</style>\n",
       "<table border=\"1\" class=\"dataframe\">\n",
       "  <thead>\n",
       "    <tr style=\"text-align: right;\">\n",
       "      <th></th>\n",
       "      <th>address</th>\n",
       "      <th>location</th>\n",
       "      <th>latitude</th>\n",
       "      <th>longitude</th>\n",
       "    </tr>\n",
       "  </thead>\n",
       "  <tbody>\n",
       "    <tr>\n",
       "      <th>0</th>\n",
       "      <td>경기도 고양시 일산서구 대화동 2603</td>\n",
       "      <td>일산서구 대화동 2603 (한화꿈에그린 106동앞)</td>\n",
       "      <td>37.66585766</td>\n",
       "      <td>126.7510974</td>\n",
       "    </tr>\n",
       "    <tr>\n",
       "      <th>1</th>\n",
       "      <td>경기도 고양시 일산서구 대화동 2603-2</td>\n",
       "      <td>일산서구 대화동 2603-2 (한화꿈에그린 102동앞)</td>\n",
       "      <td>37.66585766</td>\n",
       "      <td>126.7510974</td>\n",
       "    </tr>\n",
       "    <tr>\n",
       "      <th>2</th>\n",
       "      <td>경기도 고양시 일산서구 대화동 1099-7</td>\n",
       "      <td>대화동 1099-7 현대모터스 스튜디오 건너편</td>\n",
       "      <td>37.6651343</td>\n",
       "      <td>126.7479285</td>\n",
       "    </tr>\n",
       "    <tr>\n",
       "      <th>3</th>\n",
       "      <td>경기도 고양시 일산서구 대화동 2734</td>\n",
       "      <td>대화동 2734번지 한국지역난방공사 열공급시설 삼거리</td>\n",
       "      <td>37.66213291</td>\n",
       "      <td>126.7404425</td>\n",
       "    </tr>\n",
       "    <tr>\n",
       "      <th>4</th>\n",
       "      <td>경기도 고양시 일산서구 대화동 2321</td>\n",
       "      <td>일산서구 중앙로 1600 일산서구청(신청사) 1(대화동2428 일산서구청 신청사 옆)</td>\n",
       "      <td>37.67791456</td>\n",
       "      <td>126.745242</td>\n",
       "    </tr>\n",
       "    <tr>\n",
       "      <th>...</th>\n",
       "      <td>...</td>\n",
       "      <td>...</td>\n",
       "      <td>...</td>\n",
       "      <td>...</td>\n",
       "    </tr>\n",
       "    <tr>\n",
       "      <th>95</th>\n",
       "      <td>경기도 고양시 일산서구 대화동 2607</td>\n",
       "      <td>대화동 2607 킨텍스 지하차도 부근(대화동 2600-3 킨텍스 지하차도 주변)</td>\n",
       "      <td>37.66624826</td>\n",
       "      <td>126.7459032</td>\n",
       "    </tr>\n",
       "    <tr>\n",
       "      <th>96</th>\n",
       "      <td>경기도 고양시 일산서구 대화동 2306-2</td>\n",
       "      <td>대화동 2306-2 (킨텍스북문1)</td>\n",
       "      <td>37.671585</td>\n",
       "      <td>126.7451536</td>\n",
       "    </tr>\n",
       "    <tr>\n",
       "      <th>97</th>\n",
       "      <td>경기도 고양시 일산서구 대화동 2202-2</td>\n",
       "      <td>일산서구 대화동 2202-2 (우리은행앞)</td>\n",
       "      <td>37.67582142</td>\n",
       "      <td>126.749069</td>\n",
       "    </tr>\n",
       "    <tr>\n",
       "      <th>98</th>\n",
       "      <td>경기도 고양시 일산서구 대화동 2600-6</td>\n",
       "      <td>대화동 2600-6 (현대자동차 정문)</td>\n",
       "      <td>37.66733286</td>\n",
       "      <td>126.7482931</td>\n",
       "    </tr>\n",
       "    <tr>\n",
       "      <th>99</th>\n",
       "      <td>경기도 고양시 일산서구 대화동 2600-6</td>\n",
       "      <td>대화동 2600-6 (현대자동차 후문)</td>\n",
       "      <td>37.66733286</td>\n",
       "      <td>126.7482931</td>\n",
       "    </tr>\n",
       "  </tbody>\n",
       "</table>\n",
       "<p>100 rows × 4 columns</p>\n",
       "</div>"
      ],
      "text/plain": [
       "                    address                                         location  \\\n",
       "0     경기도 고양시 일산서구 대화동 2603                     일산서구 대화동 2603 (한화꿈에그린 106동앞)   \n",
       "1   경기도 고양시 일산서구 대화동 2603-2                   일산서구 대화동 2603-2 (한화꿈에그린 102동앞)   \n",
       "2   경기도 고양시 일산서구 대화동 1099-7                        대화동 1099-7 현대모터스 스튜디오 건너편   \n",
       "3     경기도 고양시 일산서구 대화동 2734                    대화동 2734번지 한국지역난방공사 열공급시설 삼거리   \n",
       "4     경기도 고양시 일산서구 대화동 2321  일산서구 중앙로 1600 일산서구청(신청사) 1(대화동2428 일산서구청 신청사 옆)   \n",
       "..                      ...                                              ...   \n",
       "95    경기도 고양시 일산서구 대화동 2607     대화동 2607 킨텍스 지하차도 부근(대화동 2600-3 킨텍스 지하차도 주변)   \n",
       "96  경기도 고양시 일산서구 대화동 2306-2                              대화동 2306-2 (킨텍스북문1)   \n",
       "97  경기도 고양시 일산서구 대화동 2202-2                          일산서구 대화동 2202-2 (우리은행앞)   \n",
       "98  경기도 고양시 일산서구 대화동 2600-6                            대화동 2600-6 (현대자동차 정문)   \n",
       "99  경기도 고양시 일산서구 대화동 2600-6                            대화동 2600-6 (현대자동차 후문)   \n",
       "\n",
       "       latitude    longitude  \n",
       "0   37.66585766  126.7510974  \n",
       "1   37.66585766  126.7510974  \n",
       "2    37.6651343  126.7479285  \n",
       "3   37.66213291  126.7404425  \n",
       "4   37.67791456   126.745242  \n",
       "..          ...          ...  \n",
       "95  37.66624826  126.7459032  \n",
       "96    37.671585  126.7451536  \n",
       "97  37.67582142   126.749069  \n",
       "98  37.66733286  126.7482931  \n",
       "99  37.66733286  126.7482931  \n",
       "\n",
       "[100 rows x 4 columns]"
      ]
     },
     "execution_count": 24,
     "metadata": {},
     "output_type": "execute_result"
    }
   ],
   "source": [
    "# dataframe으로 변환\n",
    "df = pd.DataFrame({ # 2. 데이터프레임으로 변환 작업\n",
    "    'address': address_list, # 1. 키와 밸류의 쌍으로 묶어주어서\n",
    "    'location': location_list,  \n",
    "    'latitude': latitude_list,\n",
    "    'longitude': longitude_list\n",
    "})\n",
    "\n",
    "df # 총 100행임을 출력 결과를 통해 확인(100rows)"
   ]
  }
 ],
 "metadata": {
  "kernelspec": {
   "display_name": "dx_env",
   "language": "python",
   "name": "dx_env"
  },
  "language_info": {
   "codemirror_mode": {
    "name": "ipython",
    "version": 3
   },
   "file_extension": ".py",
   "mimetype": "text/x-python",
   "name": "python",
   "nbconvert_exporter": "python",
   "pygments_lexer": "ipython3",
   "version": "3.11.9"
  }
 },
 "nbformat": 4,
 "nbformat_minor": 5
}
