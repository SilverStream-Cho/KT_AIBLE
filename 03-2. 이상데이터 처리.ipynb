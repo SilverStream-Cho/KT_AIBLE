{
 "cells": [
  {
   "cell_type": "markdown",
   "id": "16898c51-255b-4f68-9e43-fffd654baf64",
   "metadata": {},
   "source": [
    "# 데이터 전처리 이해와 실무"
   ]
  },
  {
   "cell_type": "markdown",
   "id": "203516fd-2df2-43b0-8026-a271b317e07c",
   "metadata": {
    "jp-MarkdownHeadingCollapsed": true
   },
   "source": [
    "## `데이터 정제: 이상치 데이터 처리`"
   ]
  },
  {
   "cell_type": "markdown",
   "id": "cc7cdd95-6b75-4226-8438-95800c8f0194",
   "metadata": {},
   "source": [
    "### 이상치 다루기(강의 교안)\n",
    "1. 이상치 확인\n",
    "   - Z-SCORE, IQR(Interquartile Range)\n",
    "2. 이상치 처리\n",
    "   - 삭제, 대체"
   ]
  },
  {
   "cell_type": "markdown",
   "id": "05cf3e3c-140e-444f-b868-8b5823cf703a",
   "metadata": {},
   "source": [
    "### 실습 데이터\n",
    "- 이상치 강좌 실습을 위한 생성 데이터: 기사별 클릭 수 데이터"
   ]
  },
  {
   "cell_type": "markdown",
   "id": "63a83e60-5504-4b63-be05-982a48ee98fa",
   "metadata": {},
   "source": [
    "## 0. 활용 패키지 및 데이터 로딩"
   ]
  },
  {
   "cell_type": "code",
   "execution_count": 1,
   "id": "2aa229e9-ddd5-4851-be43-76ad659e426f",
   "metadata": {},
   "outputs": [],
   "source": [
    "import numpy as np\n",
    "import pandas as pd"
   ]
  },
  {
   "cell_type": "code",
   "execution_count": 21,
   "id": "229a36dd-8b4e-4844-90d2-69032acd636c",
   "metadata": {},
   "outputs": [
    {
     "name": "stdout",
     "output_type": "stream",
     "text": [
      "IQR: 804.0\n",
      "Mean: 1348.0526108041051\n",
      "Std Dev: 1185.4509119071472\n",
      "Z-Score Min: -0.7634884922131655\n",
      "Z-Score Max: 20.510029275472696\n"
     ]
    }
   ],
   "source": [
    "import pandas as pd\n",
    "import numpy as np\n",
    "import random\n",
    "import string\n",
    "from scipy.stats import zscore\n",
    "\n",
    "# 생성할 데이터의 행 수\n",
    "num_rows = 17734\n",
    "\n",
    "# 1. 카테고리와 저널 데이터 정의\n",
    "categories = ['사설', '사회', '공학', '증권', '부동산', '경제', '사설', '정치', '부동산', '사회', '스포츠', '경제', '사설', '사회', '연예']\n",
    "journals = ['C일보', 'B일보', 'C일보', 'E뉴스', 'B일보', 'B일보', 'C일보', 'D일보', 'D일보', 'B일보', 'B일보', 'B일보', 'B일보', 'B일보', 'B일보']\n",
    "\n",
    "# 2. 무작위 ID 생성 함수\n",
    "def generate_random_id(length=10):\n",
    "    return ''.join(random.choices(string.ascii_letters + string.digits, k=length))\n",
    "\n",
    "# 3. 로그 정규 분포 기반 클릭 수 생성\n",
    "def generate_clicks_log_normal(num_rows):\n",
    "    np.random.seed(0)  # 재현 가능한 결과를 위해 시드 설정\n",
    "    mean = np.log(1000)\n",
    "    sigma = 1.0\n",
    "    clicks = np.random.lognormal(mean, sigma, num_rows)\n",
    "    clicks = np.clip(clicks, 9, 433992)  # 최소값과 최대값 설정\n",
    "    return clicks.astype(int)\n",
    "\n",
    "# 4. IQR 조정 함수\n",
    "def adjust_iqr(clicks, desired_iqr):\n",
    "    current_iqr = np.percentile(clicks, 75) - np.percentile(clicks, 25)\n",
    "    scale_factor = desired_iqr / current_iqr\n",
    "    clicks = (clicks - np.median(clicks)) * scale_factor + np.median(clicks)\n",
    "    return np.clip(clicks, 9, 433992).astype(int)\n",
    "\n",
    "# 데이터프레임 생성\n",
    "initial_clicks = generate_clicks_log_normal(num_rows)\n",
    "adjusted_clicks = adjust_iqr(initial_clicks, desired_iqr=804)\n",
    "\n",
    "# z-score 조정\n",
    "adjusted_zscores = zscore(adjusted_clicks)\n",
    "\n",
    "# 데이터프레임 생성\n",
    "data = {\n",
    "    'category': [random.choice(categories) for _ in range(num_rows)],\n",
    "    'Journal': [random.choice(journals) for _ in range(num_rows)],\n",
    "    'article_id': [generate_random_id() for _ in range(num_rows)],\n",
    "    'num_click': adjusted_clicks\n",
    "}\n",
    "\n",
    "df = pd.DataFrame(data)\n",
    "\n",
    "# 데이터프레임을 CSV 파일로 저장\n",
    "df.to_csv('./data/article_click.csv', index=False)\n",
    "\n",
    "# 확인용 통계 출력\n",
    "print(\"IQR:\", np.percentile(adjusted_clicks, 75) - np.percentile(adjusted_clicks, 25))\n",
    "print(\"Mean:\", df['num_click'].mean())\n",
    "print(\"Std Dev:\", df['num_click'].std())\n",
    "print(\"Z-Score Min:\", adjusted_zscores.min())\n",
    "print(\"Z-Score Max:\", adjusted_zscores.max())"
   ]
  },
  {
   "cell_type": "code",
   "execution_count": 3,
   "id": "62342b1e-ff93-4df7-90f0-ace0ed655261",
   "metadata": {},
   "outputs": [
    {
     "data": {
      "text/html": [
       "<div>\n",
       "<style scoped>\n",
       "    .dataframe tbody tr th:only-of-type {\n",
       "        vertical-align: middle;\n",
       "    }\n",
       "\n",
       "    .dataframe tbody tr th {\n",
       "        vertical-align: top;\n",
       "    }\n",
       "\n",
       "    .dataframe thead th {\n",
       "        text-align: right;\n",
       "    }\n",
       "</style>\n",
       "<table border=\"1\" class=\"dataframe\">\n",
       "  <thead>\n",
       "    <tr style=\"text-align: right;\">\n",
       "      <th></th>\n",
       "      <th>category</th>\n",
       "      <th>Journal</th>\n",
       "      <th>article_id</th>\n",
       "      <th>num_click</th>\n",
       "    </tr>\n",
       "  </thead>\n",
       "  <tbody>\n",
       "    <tr>\n",
       "      <th>0</th>\n",
       "      <td>사설</td>\n",
       "      <td>E뉴스</td>\n",
       "      <td>9NGvJHSxMt</td>\n",
       "      <td>3719</td>\n",
       "    </tr>\n",
       "    <tr>\n",
       "      <th>1</th>\n",
       "      <td>스포츠</td>\n",
       "      <td>D일보</td>\n",
       "      <td>qujSGSSVQj</td>\n",
       "      <td>1271</td>\n",
       "    </tr>\n",
       "    <tr>\n",
       "      <th>2</th>\n",
       "      <td>사회</td>\n",
       "      <td>C일보</td>\n",
       "      <td>sOx7VDWpMN</td>\n",
       "      <td>1929</td>\n",
       "    </tr>\n",
       "    <tr>\n",
       "      <th>3</th>\n",
       "      <td>사설</td>\n",
       "      <td>B일보</td>\n",
       "      <td>TOh0A0Dj0Q</td>\n",
       "      <td>5728</td>\n",
       "    </tr>\n",
       "    <tr>\n",
       "      <th>4</th>\n",
       "      <td>사회</td>\n",
       "      <td>C일보</td>\n",
       "      <td>hHxD2MJ6m9</td>\n",
       "      <td>4077</td>\n",
       "    </tr>\n",
       "    <tr>\n",
       "      <th>5</th>\n",
       "      <td>사회</td>\n",
       "      <td>B일보</td>\n",
       "      <td>n1EZb6tJcJ</td>\n",
       "      <td>642</td>\n",
       "    </tr>\n",
       "    <tr>\n",
       "      <th>6</th>\n",
       "      <td>연예</td>\n",
       "      <td>B일보</td>\n",
       "      <td>zHTsEDWUxZ</td>\n",
       "      <td>1887</td>\n",
       "    </tr>\n",
       "    <tr>\n",
       "      <th>7</th>\n",
       "      <td>사설</td>\n",
       "      <td>B일보</td>\n",
       "      <td>lFGGmpHhfa</td>\n",
       "      <td>914</td>\n",
       "    </tr>\n",
       "    <tr>\n",
       "      <th>8</th>\n",
       "      <td>공학</td>\n",
       "      <td>D일보</td>\n",
       "      <td>HBMJVNlfGC</td>\n",
       "      <td>938</td>\n",
       "    </tr>\n",
       "    <tr>\n",
       "      <th>9</th>\n",
       "      <td>사설</td>\n",
       "      <td>D일보</td>\n",
       "      <td>gCUjTevkHF</td>\n",
       "      <td>1279</td>\n",
       "    </tr>\n",
       "    <tr>\n",
       "      <th>10</th>\n",
       "      <td>사회</td>\n",
       "      <td>B일보</td>\n",
       "      <td>Sx6P438ieR</td>\n",
       "      <td>1080</td>\n",
       "    </tr>\n",
       "    <tr>\n",
       "      <th>11</th>\n",
       "      <td>사설</td>\n",
       "      <td>B일보</td>\n",
       "      <td>UqIhL4HJq9</td>\n",
       "      <td>2842</td>\n",
       "    </tr>\n",
       "    <tr>\n",
       "      <th>12</th>\n",
       "      <td>스포츠</td>\n",
       "      <td>E뉴스</td>\n",
       "      <td>PxWQ5CFX5b</td>\n",
       "      <td>1636</td>\n",
       "    </tr>\n",
       "    <tr>\n",
       "      <th>13</th>\n",
       "      <td>부동산</td>\n",
       "      <td>C일보</td>\n",
       "      <td>AAXd93p9NM</td>\n",
       "      <td>1066</td>\n",
       "    </tr>\n",
       "    <tr>\n",
       "      <th>14</th>\n",
       "      <td>사설</td>\n",
       "      <td>C일보</td>\n",
       "      <td>k1tb7HJFSu</td>\n",
       "      <td>1308</td>\n",
       "    </tr>\n",
       "  </tbody>\n",
       "</table>\n",
       "</div>"
      ],
      "text/plain": [
       "   category Journal  article_id  num_click\n",
       "0        사설     E뉴스  9NGvJHSxMt       3719\n",
       "1       스포츠     D일보  qujSGSSVQj       1271\n",
       "2        사회     C일보  sOx7VDWpMN       1929\n",
       "3        사설     B일보  TOh0A0Dj0Q       5728\n",
       "4        사회     C일보  hHxD2MJ6m9       4077\n",
       "5        사회     B일보  n1EZb6tJcJ        642\n",
       "6        연예     B일보  zHTsEDWUxZ       1887\n",
       "7        사설     B일보  lFGGmpHhfa        914\n",
       "8        공학     D일보  HBMJVNlfGC        938\n",
       "9        사설     D일보  gCUjTevkHF       1279\n",
       "10       사회     B일보  Sx6P438ieR       1080\n",
       "11       사설     B일보  UqIhL4HJq9       2842\n",
       "12      스포츠     E뉴스  PxWQ5CFX5b       1636\n",
       "13      부동산     C일보  AAXd93p9NM       1066\n",
       "14       사설     C일보  k1tb7HJFSu       1308"
      ]
     },
     "execution_count": 3,
     "metadata": {},
     "output_type": "execute_result"
    }
   ],
   "source": [
    "# 데이터 로딩 및 개요 확인\n",
    "click_data = pd.read_csv(\"./data/article_click.csv\") # 다른 데이터 불러올 때는 , encoding = 'cp949' 넣어줘야 함!\n",
    "click_data.head(15)"
   ]
  },
  {
   "cell_type": "code",
   "execution_count": 4,
   "id": "98c20cb4-766f-4273-b2e7-d0599684ac2f",
   "metadata": {},
   "outputs": [
    {
     "name": "stdout",
     "output_type": "stream",
     "text": [
      "<class 'pandas.core.frame.DataFrame'>\n",
      "RangeIndex: 17734 entries, 0 to 17733\n",
      "Data columns (total 4 columns):\n",
      " #   Column      Non-Null Count  Dtype \n",
      "---  ------      --------------  ----- \n",
      " 0   category    17734 non-null  object\n",
      " 1   Journal     17734 non-null  object\n",
      " 2   article_id  17734 non-null  object\n",
      " 3   num_click   17734 non-null  int64 \n",
      "dtypes: int64(1), object(3)\n",
      "memory usage: 554.3+ KB\n"
     ]
    }
   ],
   "source": [
    "# 데이터 개요 파악\n",
    "click_data.info() # 클릭수만 연속형이고 나머지는 다 범주형 자료\n",
    "\n",
    "# data copy\n",
    "click_copy = click_data.copy()"
   ]
  },
  {
   "cell_type": "code",
   "execution_count": 5,
   "id": "7fd5cf3a-4cf0-47c4-89a2-8be1ec81c031",
   "metadata": {},
   "outputs": [
    {
     "data": {
      "text/plain": [
       "count    17734.000000\n",
       "mean      1348.052611\n",
       "std       1185.450912\n",
       "min        443.000000\n",
       "25%        717.000000\n",
       "50%        986.000000\n",
       "75%       1521.000000\n",
       "max      25661.000000\n",
       "Name: num_click, dtype: float64"
      ]
     },
     "execution_count": 5,
     "metadata": {},
     "output_type": "execute_result"
    }
   ],
   "source": [
    "# describe 함수 활용 기반의 수치형 변수인 num_click(클릭 횟수) 컬럼 요약 통계 확인\n",
    "click_copy['num_click'].describe()"
   ]
  },
  {
   "cell_type": "markdown",
   "id": "0010bce3-218c-41af-abf6-989a013d1a70",
   "metadata": {},
   "source": [
    "- 최대 클릭 수는 433992회, 최소 9회 클릭되었음\n",
    "- 75% 수준의 클릭 수는 1000회 정도의 결과를 보임에 따라 일부 이상치 데이터 존재하는 것으로 보여짐"
   ]
  },
  {
   "cell_type": "markdown",
   "id": "ab0f0e80-93b1-4914-9bf6-5a9689647685",
   "metadata": {},
   "source": [
    "## 1. 이상치 처리하기"
   ]
  },
  {
   "cell_type": "markdown",
   "id": "0a181869-378a-4448-b1dd-04baa0745c1c",
   "metadata": {},
   "source": [
    "### 1-1. 이상치 확인 방안 및 삭제하기: `Z-Score`\n",
    "1. Z-Score : Z는 (해당관측치 - 관측치 변수 평균) / (관측치 변수의 표준편차)\n",
    "2. IQR"
   ]
  },
  {
   "cell_type": "code",
   "execution_count": 6,
   "id": "243e527f-b4f2-4ffe-9b6f-be214c102cb0",
   "metadata": {},
   "outputs": [
    {
     "data": {
      "text/html": [
       "<div>\n",
       "<style scoped>\n",
       "    .dataframe tbody tr th:only-of-type {\n",
       "        vertical-align: middle;\n",
       "    }\n",
       "\n",
       "    .dataframe tbody tr th {\n",
       "        vertical-align: top;\n",
       "    }\n",
       "\n",
       "    .dataframe thead th {\n",
       "        text-align: right;\n",
       "    }\n",
       "</style>\n",
       "<table border=\"1\" class=\"dataframe\">\n",
       "  <thead>\n",
       "    <tr style=\"text-align: right;\">\n",
       "      <th></th>\n",
       "      <th>category</th>\n",
       "      <th>Journal</th>\n",
       "      <th>article_id</th>\n",
       "      <th>num_click</th>\n",
       "      <th>z_score</th>\n",
       "    </tr>\n",
       "  </thead>\n",
       "  <tbody>\n",
       "    <tr>\n",
       "      <th>0</th>\n",
       "      <td>사설</td>\n",
       "      <td>E뉴스</td>\n",
       "      <td>9NGvJHSxMt</td>\n",
       "      <td>3719</td>\n",
       "      <td>2.000095</td>\n",
       "    </tr>\n",
       "    <tr>\n",
       "      <th>1</th>\n",
       "      <td>스포츠</td>\n",
       "      <td>D일보</td>\n",
       "      <td>qujSGSSVQj</td>\n",
       "      <td>1271</td>\n",
       "      <td>-0.065000</td>\n",
       "    </tr>\n",
       "    <tr>\n",
       "      <th>2</th>\n",
       "      <td>사회</td>\n",
       "      <td>C일보</td>\n",
       "      <td>sOx7VDWpMN</td>\n",
       "      <td>1929</td>\n",
       "      <td>0.490078</td>\n",
       "    </tr>\n",
       "    <tr>\n",
       "      <th>3</th>\n",
       "      <td>사설</td>\n",
       "      <td>B일보</td>\n",
       "      <td>TOh0A0Dj0Q</td>\n",
       "      <td>5728</td>\n",
       "      <td>3.694856</td>\n",
       "    </tr>\n",
       "    <tr>\n",
       "      <th>4</th>\n",
       "      <td>사회</td>\n",
       "      <td>C일보</td>\n",
       "      <td>hHxD2MJ6m9</td>\n",
       "      <td>4077</td>\n",
       "      <td>2.302098</td>\n",
       "    </tr>\n",
       "  </tbody>\n",
       "</table>\n",
       "</div>"
      ],
      "text/plain": [
       "  category Journal  article_id  num_click   z_score\n",
       "0       사설     E뉴스  9NGvJHSxMt       3719  2.000095\n",
       "1      스포츠     D일보  qujSGSSVQj       1271 -0.065000\n",
       "2       사회     C일보  sOx7VDWpMN       1929  0.490078\n",
       "3       사설     B일보  TOh0A0Dj0Q       5728  3.694856\n",
       "4       사회     C일보  hHxD2MJ6m9       4077  2.302098"
      ]
     },
     "execution_count": 6,
     "metadata": {},
     "output_type": "execute_result"
    }
   ],
   "source": [
    "# Z-score 컬럼 생성\n",
    "click_copy['z_score'] = (click_copy['num_click'] - np.mean(click_copy['num_click'])) / np.std(click_copy['num_click'])\n",
    "click_copy.head()"
   ]
  },
  {
   "cell_type": "code",
   "execution_count": 7,
   "id": "6ab59582-7848-44e5-ad13-fb13c5a90c08",
   "metadata": {},
   "outputs": [
    {
     "data": {
      "text/html": [
       "<div>\n",
       "<style scoped>\n",
       "    .dataframe tbody tr th:only-of-type {\n",
       "        vertical-align: middle;\n",
       "    }\n",
       "\n",
       "    .dataframe tbody tr th {\n",
       "        vertical-align: top;\n",
       "    }\n",
       "\n",
       "    .dataframe thead th {\n",
       "        text-align: right;\n",
       "    }\n",
       "</style>\n",
       "<table border=\"1\" class=\"dataframe\">\n",
       "  <thead>\n",
       "    <tr style=\"text-align: right;\">\n",
       "      <th></th>\n",
       "      <th>num_click</th>\n",
       "      <th>z_score</th>\n",
       "    </tr>\n",
       "  </thead>\n",
       "  <tbody>\n",
       "    <tr>\n",
       "      <th>count</th>\n",
       "      <td>17734.000000</td>\n",
       "      <td>1.773400e+04</td>\n",
       "    </tr>\n",
       "    <tr>\n",
       "      <th>mean</th>\n",
       "      <td>1348.052611</td>\n",
       "      <td>-1.943235e-17</td>\n",
       "    </tr>\n",
       "    <tr>\n",
       "      <th>std</th>\n",
       "      <td>1185.450912</td>\n",
       "      <td>1.000028e+00</td>\n",
       "    </tr>\n",
       "    <tr>\n",
       "      <th>min</th>\n",
       "      <td>443.000000</td>\n",
       "      <td>-7.634885e-01</td>\n",
       "    </tr>\n",
       "    <tr>\n",
       "      <th>25%</th>\n",
       "      <td>717.000000</td>\n",
       "      <td>-5.323463e-01</td>\n",
       "    </tr>\n",
       "    <tr>\n",
       "      <th>50%</th>\n",
       "      <td>986.000000</td>\n",
       "      <td>-3.054220e-01</td>\n",
       "    </tr>\n",
       "    <tr>\n",
       "      <th>75%</th>\n",
       "      <td>1521.000000</td>\n",
       "      <td>1.458958e-01</td>\n",
       "    </tr>\n",
       "    <tr>\n",
       "      <th>max</th>\n",
       "      <td>25661.000000</td>\n",
       "      <td>2.051003e+01</td>\n",
       "    </tr>\n",
       "  </tbody>\n",
       "</table>\n",
       "</div>"
      ],
      "text/plain": [
       "          num_click       z_score\n",
       "count  17734.000000  1.773400e+04\n",
       "mean    1348.052611 -1.943235e-17\n",
       "std     1185.450912  1.000028e+00\n",
       "min      443.000000 -7.634885e-01\n",
       "25%      717.000000 -5.323463e-01\n",
       "50%      986.000000 -3.054220e-01\n",
       "75%     1521.000000  1.458958e-01\n",
       "max    25661.000000  2.051003e+01"
      ]
     },
     "execution_count": 7,
     "metadata": {},
     "output_type": "execute_result"
    }
   ],
   "source": [
    "# 원본 데이터 내 z-score 확인\n",
    "click_copy.describe() # min : -0.6936 # max : 2.23 --> 만약 min : -0.228, max : 92.239면 양의 방향으로 이상치 존재"
   ]
  },
  {
   "cell_type": "markdown",
   "id": "f285b47d-2140-4b4b-860c-996b1ce32aaa",
   "metadata": {},
   "source": [
    "- -3과 3 사이를 벗어난 값을 삭제해보겠다."
   ]
  },
  {
   "cell_type": "code",
   "execution_count": 8,
   "id": "597c9001-18b6-44fc-bd01-91d66169311c",
   "metadata": {},
   "outputs": [
    {
     "name": "stdout",
     "output_type": "stream",
     "text": [
      "<class 'pandas.core.frame.DataFrame'>\n",
      "Index: 17398 entries, 0 to 17733\n",
      "Data columns (total 5 columns):\n",
      " #   Column      Non-Null Count  Dtype  \n",
      "---  ------      --------------  -----  \n",
      " 0   category    17398 non-null  object \n",
      " 1   Journal     17398 non-null  object \n",
      " 2   article_id  17398 non-null  object \n",
      " 3   num_click   17398 non-null  int64  \n",
      " 4   z_score     17398 non-null  float64\n",
      "dtypes: float64(1), int64(1), object(3)\n",
      "memory usage: 815.5+ KB\n"
     ]
    }
   ],
   "source": [
    "# 이상치 처리하기(삭제)\n",
    "# z-score 기반 이상치 제거 후 데이터 차원 확인\n",
    "click_copy = click_copy[(click_copy['z_score'] < 3) & (click_copy['z_score'] > -3)]\n",
    "\n",
    "# 데이터 개요 확인\n",
    "click_copy.info()"
   ]
  },
  {
   "cell_type": "code",
   "execution_count": 9,
   "id": "181d4ad5-fbe1-4f0c-83f7-04e6614bae3f",
   "metadata": {},
   "outputs": [
    {
     "data": {
      "text/html": [
       "<div>\n",
       "<style scoped>\n",
       "    .dataframe tbody tr th:only-of-type {\n",
       "        vertical-align: middle;\n",
       "    }\n",
       "\n",
       "    .dataframe tbody tr th {\n",
       "        vertical-align: top;\n",
       "    }\n",
       "\n",
       "    .dataframe thead th {\n",
       "        text-align: right;\n",
       "    }\n",
       "</style>\n",
       "<table border=\"1\" class=\"dataframe\">\n",
       "  <thead>\n",
       "    <tr style=\"text-align: right;\">\n",
       "      <th></th>\n",
       "      <th>num_click</th>\n",
       "      <th>z_score</th>\n",
       "    </tr>\n",
       "  </thead>\n",
       "  <tbody>\n",
       "    <tr>\n",
       "      <th>count</th>\n",
       "      <td>17398.000000</td>\n",
       "      <td>17398.000000</td>\n",
       "    </tr>\n",
       "    <tr>\n",
       "      <th>mean</th>\n",
       "      <td>1233.316358</td>\n",
       "      <td>-0.096790</td>\n",
       "    </tr>\n",
       "    <tr>\n",
       "      <th>std</th>\n",
       "      <td>767.232935</td>\n",
       "      <td>0.647226</td>\n",
       "    </tr>\n",
       "    <tr>\n",
       "      <th>min</th>\n",
       "      <td>443.000000</td>\n",
       "      <td>-0.763488</td>\n",
       "    </tr>\n",
       "    <tr>\n",
       "      <th>25%</th>\n",
       "      <td>713.000000</td>\n",
       "      <td>-0.535721</td>\n",
       "    </tr>\n",
       "    <tr>\n",
       "      <th>50%</th>\n",
       "      <td>973.000000</td>\n",
       "      <td>-0.316389</td>\n",
       "    </tr>\n",
       "    <tr>\n",
       "      <th>75%</th>\n",
       "      <td>1474.000000</td>\n",
       "      <td>0.106247</td>\n",
       "    </tr>\n",
       "    <tr>\n",
       "      <th>max</th>\n",
       "      <td>4899.000000</td>\n",
       "      <td>2.995525</td>\n",
       "    </tr>\n",
       "  </tbody>\n",
       "</table>\n",
       "</div>"
      ],
      "text/plain": [
       "          num_click       z_score\n",
       "count  17398.000000  17398.000000\n",
       "mean    1233.316358     -0.096790\n",
       "std      767.232935      0.647226\n",
       "min      443.000000     -0.763488\n",
       "25%      713.000000     -0.535721\n",
       "50%      973.000000     -0.316389\n",
       "75%     1474.000000      0.106247\n",
       "max     4899.000000      2.995525"
      ]
     },
     "execution_count": 9,
     "metadata": {},
     "output_type": "execute_result"
    }
   ],
   "source": [
    "# 이상치 제거 후 데이터 요약 통계 확인\n",
    "# z-score의 Min, Max 가 절댓값 3을 초과하지 않음을 확인\n",
    "click_copy.describe()"
   ]
  },
  {
   "cell_type": "code",
   "execution_count": 10,
   "id": "d6ac931f-4c90-409f-ac64-9bed06192da9",
   "metadata": {},
   "outputs": [
    {
     "name": "stdout",
     "output_type": "stream",
     "text": [
      "(17398, 5)\n"
     ]
    }
   ],
   "source": [
    "# 한편, scipy(싸이파이) 패키지 내에서 z-score 함수를 별도로 제공하고 있다. \n",
    "# 별도 수식하지 않아도 편하게 구할 수 있는 방법!\n",
    "from scipy.stats import zscore\n",
    "click_copy = click_data.copy()\n",
    "\n",
    "click_copy['z_score'] = zscore(click_copy['num_click'])\n",
    "click_copy = click_copy[(click_copy['z_score'] < 3) & (click_copy['z_score'] > -3)]\n",
    "print(click_copy.shape)"
   ]
  },
  {
   "cell_type": "code",
   "execution_count": 11,
   "id": "2a94dfcc-9f8d-4e8c-8c45-d4c7b074d0a1",
   "metadata": {},
   "outputs": [
    {
     "data": {
      "text/html": [
       "<div>\n",
       "<style scoped>\n",
       "    .dataframe tbody tr th:only-of-type {\n",
       "        vertical-align: middle;\n",
       "    }\n",
       "\n",
       "    .dataframe tbody tr th {\n",
       "        vertical-align: top;\n",
       "    }\n",
       "\n",
       "    .dataframe thead th {\n",
       "        text-align: right;\n",
       "    }\n",
       "</style>\n",
       "<table border=\"1\" class=\"dataframe\">\n",
       "  <thead>\n",
       "    <tr style=\"text-align: right;\">\n",
       "      <th></th>\n",
       "      <th>num_click</th>\n",
       "      <th>z_score</th>\n",
       "    </tr>\n",
       "  </thead>\n",
       "  <tbody>\n",
       "    <tr>\n",
       "      <th>count</th>\n",
       "      <td>17398.000000</td>\n",
       "      <td>17398.000000</td>\n",
       "    </tr>\n",
       "    <tr>\n",
       "      <th>mean</th>\n",
       "      <td>1233.316358</td>\n",
       "      <td>-0.096790</td>\n",
       "    </tr>\n",
       "    <tr>\n",
       "      <th>std</th>\n",
       "      <td>767.232935</td>\n",
       "      <td>0.647226</td>\n",
       "    </tr>\n",
       "    <tr>\n",
       "      <th>min</th>\n",
       "      <td>443.000000</td>\n",
       "      <td>-0.763488</td>\n",
       "    </tr>\n",
       "    <tr>\n",
       "      <th>25%</th>\n",
       "      <td>713.000000</td>\n",
       "      <td>-0.535721</td>\n",
       "    </tr>\n",
       "    <tr>\n",
       "      <th>50%</th>\n",
       "      <td>973.000000</td>\n",
       "      <td>-0.316389</td>\n",
       "    </tr>\n",
       "    <tr>\n",
       "      <th>75%</th>\n",
       "      <td>1474.000000</td>\n",
       "      <td>0.106247</td>\n",
       "    </tr>\n",
       "    <tr>\n",
       "      <th>max</th>\n",
       "      <td>4899.000000</td>\n",
       "      <td>2.995525</td>\n",
       "    </tr>\n",
       "  </tbody>\n",
       "</table>\n",
       "</div>"
      ],
      "text/plain": [
       "          num_click       z_score\n",
       "count  17398.000000  17398.000000\n",
       "mean    1233.316358     -0.096790\n",
       "std      767.232935      0.647226\n",
       "min      443.000000     -0.763488\n",
       "25%      713.000000     -0.535721\n",
       "50%      973.000000     -0.316389\n",
       "75%     1474.000000      0.106247\n",
       "max     4899.000000      2.995525"
      ]
     },
     "execution_count": 11,
     "metadata": {},
     "output_type": "execute_result"
    }
   ],
   "source": [
    "# 기존 결과와 비교\n",
    "click_copy.describe() # 동일함을 확인 가능!"
   ]
  },
  {
   "cell_type": "markdown",
   "id": "879fad0d-00a4-44cc-8955-9aa1b3fbb841",
   "metadata": {
    "jp-MarkdownHeadingCollapsed": true
   },
   "source": [
    "### 1-2. 이상치 확인 방안 및 삭제하기: `IQR`\n",
    "1. Z-Score : Z는 (해당관측치 - 관측치 변수 평균) / (관측치 변수의 표준편차)\n",
    "2. IQR"
   ]
  },
  {
   "cell_type": "code",
   "execution_count": 12,
   "id": "026daf7f-17e7-4e7f-9c1f-ba7d8f9eff32",
   "metadata": {},
   "outputs": [],
   "source": [
    "# IQR 판단 기반 이상치 처리\n",
    "# 원 데이터 COPY\n",
    "click_copy = click_data.copy()"
   ]
  },
  {
   "cell_type": "code",
   "execution_count": 13,
   "id": "60d36345-d4a6-4dfa-8508-2eb88d2d413a",
   "metadata": {},
   "outputs": [
    {
     "data": {
      "text/plain": [
       "804.0"
      ]
     },
     "execution_count": 13,
     "metadata": {},
     "output_type": "execute_result"
    }
   ],
   "source": [
    "# 1, 3 분위수 (Q1, Q3) 구하기\n",
    "q1 = click_copy['num_click'].quantile(0.25)\n",
    "q3 = click_copy['num_click'].quantile(0.75)\n",
    "\n",
    "# IQR 구하기 (Interquartile Range)\n",
    "iqr = (q3 - q1)\n",
    "iqr"
   ]
  },
  {
   "cell_type": "code",
   "execution_count": 14,
   "id": "45089b85-de85-4f36-860d-0ed37f806add",
   "metadata": {},
   "outputs": [
    {
     "data": {
      "text/html": [
       "<div>\n",
       "<style scoped>\n",
       "    .dataframe tbody tr th:only-of-type {\n",
       "        vertical-align: middle;\n",
       "    }\n",
       "\n",
       "    .dataframe tbody tr th {\n",
       "        vertical-align: top;\n",
       "    }\n",
       "\n",
       "    .dataframe thead th {\n",
       "        text-align: right;\n",
       "    }\n",
       "</style>\n",
       "<table border=\"1\" class=\"dataframe\">\n",
       "  <thead>\n",
       "    <tr style=\"text-align: right;\">\n",
       "      <th></th>\n",
       "      <th>num_click</th>\n",
       "    </tr>\n",
       "  </thead>\n",
       "  <tbody>\n",
       "    <tr>\n",
       "      <th>count</th>\n",
       "      <td>16358.000000</td>\n",
       "    </tr>\n",
       "    <tr>\n",
       "      <th>mean</th>\n",
       "      <td>1089.505624</td>\n",
       "    </tr>\n",
       "    <tr>\n",
       "      <th>std</th>\n",
       "      <td>509.026659</td>\n",
       "    </tr>\n",
       "    <tr>\n",
       "      <th>min</th>\n",
       "      <td>443.000000</td>\n",
       "    </tr>\n",
       "    <tr>\n",
       "      <th>25%</th>\n",
       "      <td>699.000000</td>\n",
       "    </tr>\n",
       "    <tr>\n",
       "      <th>50%</th>\n",
       "      <td>935.000000</td>\n",
       "    </tr>\n",
       "    <tr>\n",
       "      <th>75%</th>\n",
       "      <td>1343.000000</td>\n",
       "    </tr>\n",
       "    <tr>\n",
       "      <th>max</th>\n",
       "      <td>2725.000000</td>\n",
       "    </tr>\n",
       "  </tbody>\n",
       "</table>\n",
       "</div>"
      ],
      "text/plain": [
       "          num_click\n",
       "count  16358.000000\n",
       "mean    1089.505624\n",
       "std      509.026659\n",
       "min      443.000000\n",
       "25%      699.000000\n",
       "50%      935.000000\n",
       "75%     1343.000000\n",
       "max     2725.000000"
      ]
     },
     "execution_count": 14,
     "metadata": {},
     "output_type": "execute_result"
    }
   ],
   "source": [
    "# IQR 기반 이상치 제거하기\n",
    "click_copy = click_copy[(click_copy['num_click'] > (q1 - 1.5*iqr)) & (click_copy['num_click'] < (q3 + 1.5*iqr))]\n",
    "click_copy.describe()"
   ]
  },
  {
   "cell_type": "code",
   "execution_count": 15,
   "id": "747a9aa6-d79e-4f57-8b97-0910cb413a5e",
   "metadata": {},
   "outputs": [
    {
     "name": "stdout",
     "output_type": "stream",
     "text": [
      "(16358, 4)\n"
     ]
    }
   ],
   "source": [
    "# 이상치 제거 후 데이터 확인\n",
    "print(np.shape(click_copy))"
   ]
  },
  {
   "cell_type": "markdown",
   "id": "f67ce193-c451-455d-b45a-07e6425679a7",
   "metadata": {},
   "source": [
    "### 2. 이상치 대체하기\n",
    "- 만일 특정 목적에 따라서 기사별 클릭 횟수의 최대값을 사전에 정의하고, 그 이상의 클릭 횟수를 지닌 경우에는 기사를 통한 수익의 의미가 크게 의미가 없다고 판단되어서 데이터를 변경해야 한다면, 데이터 삭제 없이 데이터 이상치를 일괄적으로 처리 가"
   ]
  },
  {
   "cell_type": "code",
   "execution_count": 17,
   "id": "ac3abd94-e3f2-46e1-9867-cf97f1172637",
   "metadata": {},
   "outputs": [],
   "source": [
    "# 이상치 대체\n",
    "# 원데이터 copy\n",
    "click_copy = click_data.copy()"
   ]
  },
  {
   "cell_type": "code",
   "execution_count": 18,
   "id": "39cfd8a6-b1e8-4046-a769-51f0b1022c3c",
   "metadata": {},
   "outputs": [],
   "source": [
    "# 대체할 기준 정의\n",
    "max_click = 1000"
   ]
  },
  {
   "cell_type": "code",
   "execution_count": 19,
   "id": "f2654efe-4c51-4d7d-b0f2-d9e9737a2ca3",
   "metadata": {},
   "outputs": [
    {
     "data": {
      "text/html": [
       "<div>\n",
       "<style scoped>\n",
       "    .dataframe tbody tr th:only-of-type {\n",
       "        vertical-align: middle;\n",
       "    }\n",
       "\n",
       "    .dataframe tbody tr th {\n",
       "        vertical-align: top;\n",
       "    }\n",
       "\n",
       "    .dataframe thead th {\n",
       "        text-align: right;\n",
       "    }\n",
       "</style>\n",
       "<table border=\"1\" class=\"dataframe\">\n",
       "  <thead>\n",
       "    <tr style=\"text-align: right;\">\n",
       "      <th></th>\n",
       "      <th>num_click</th>\n",
       "      <th>new_num_click</th>\n",
       "    </tr>\n",
       "  </thead>\n",
       "  <tbody>\n",
       "    <tr>\n",
       "      <th>count</th>\n",
       "      <td>17734.000000</td>\n",
       "      <td>17734.000000</td>\n",
       "    </tr>\n",
       "    <tr>\n",
       "      <th>mean</th>\n",
       "      <td>1348.052611</td>\n",
       "      <td>862.033100</td>\n",
       "    </tr>\n",
       "    <tr>\n",
       "      <th>std</th>\n",
       "      <td>1185.450912</td>\n",
       "      <td>169.283572</td>\n",
       "    </tr>\n",
       "    <tr>\n",
       "      <th>min</th>\n",
       "      <td>443.000000</td>\n",
       "      <td>443.000000</td>\n",
       "    </tr>\n",
       "    <tr>\n",
       "      <th>25%</th>\n",
       "      <td>717.000000</td>\n",
       "      <td>717.000000</td>\n",
       "    </tr>\n",
       "    <tr>\n",
       "      <th>50%</th>\n",
       "      <td>986.000000</td>\n",
       "      <td>986.000000</td>\n",
       "    </tr>\n",
       "    <tr>\n",
       "      <th>75%</th>\n",
       "      <td>1521.000000</td>\n",
       "      <td>1000.000000</td>\n",
       "    </tr>\n",
       "    <tr>\n",
       "      <th>max</th>\n",
       "      <td>25661.000000</td>\n",
       "      <td>1000.000000</td>\n",
       "    </tr>\n",
       "  </tbody>\n",
       "</table>\n",
       "</div>"
      ],
      "text/plain": [
       "          num_click  new_num_click\n",
       "count  17734.000000   17734.000000\n",
       "mean    1348.052611     862.033100\n",
       "std     1185.450912     169.283572\n",
       "min      443.000000     443.000000\n",
       "25%      717.000000     717.000000\n",
       "50%      986.000000     986.000000\n",
       "75%     1521.000000    1000.000000\n",
       "max    25661.000000    1000.000000"
      ]
     },
     "execution_count": 19,
     "metadata": {},
     "output_type": "execute_result"
    }
   ],
   "source": [
    "# 정의된 기준으로 대체 후 비교를 위해 컬럼 복사\n",
    "click_copy['new_num_click'] = click_copy['num_click']\n",
    "\n",
    "# 이상치 대체\n",
    "click_copy.loc[click_copy['new_num_click'] > max_click, 'new_num_click'] = max_click\n",
    "click_copy.describe()"
   ]
  },
  {
   "cell_type": "code",
   "execution_count": 20,
   "id": "c22f28dd-74d8-45a9-a8f9-8382fe804bd3",
   "metadata": {},
   "outputs": [
    {
     "name": "stdout",
     "output_type": "stream",
     "text": [
      "<class 'pandas.core.frame.DataFrame'>\n",
      "RangeIndex: 17734 entries, 0 to 17733\n",
      "Data columns (total 5 columns):\n",
      " #   Column         Non-Null Count  Dtype \n",
      "---  ------         --------------  ----- \n",
      " 0   category       17734 non-null  object\n",
      " 1   Journal        17734 non-null  object\n",
      " 2   article_id     17734 non-null  object\n",
      " 3   num_click      17734 non-null  int64 \n",
      " 4   new_num_click  17734 non-null  int64 \n",
      "dtypes: int64(2), object(3)\n",
      "memory usage: 692.9+ KB\n"
     ]
    }
   ],
   "source": [
    "click_copy.info()"
   ]
  },
  {
   "cell_type": "markdown",
   "id": "59aa300d-239d-41b7-86b6-838c2a76d16b",
   "metadata": {},
   "source": [
    "- 일반적으로 이상치 대체 및 변경은 기존 도메인 지식 및 현업 담당자와의 협의를 통해 진행\n",
    "- 위 데이터 예제에서 기사 클릭 수의 Max 값을 1000회로 정의하고 1000회 이상의 수 값은 모두 1000회로 대체"
   ]
  },
  {
   "cell_type": "code",
   "execution_count": null,
   "id": "e7f6430c-8add-483f-a507-d0be364bbfb7",
   "metadata": {},
   "outputs": [],
   "source": []
  }
 ],
 "metadata": {
  "kernelspec": {
   "display_name": "dx_env",
   "language": "python",
   "name": "dx_env"
  },
  "language_info": {
   "codemirror_mode": {
    "name": "ipython",
    "version": 3
   },
   "file_extension": ".py",
   "mimetype": "text/x-python",
   "name": "python",
   "nbconvert_exporter": "python",
   "pygments_lexer": "ipython3",
   "version": "3.11.9"
  }
 },
 "nbformat": 4,
 "nbformat_minor": 5
}
